{
 "cells": [
  {
   "cell_type": "code",
   "execution_count": 1,
   "metadata": {
    "id": "6FixCmEsjULU"
   },
   "outputs": [],
   "source": [
    "import pandas as pd \n",
    "import numpy as np\n",
    "import matplotlib.pyplot as plt\n",
    "import seaborn as sns\n",
    "\n",
    "from warnings import filterwarnings\n",
    "filterwarnings('ignore')\n",
    "\n",
    "import statsmodels.api as sm\n",
    "from scipy import stats\n",
    "import statistics\n",
    "from scipy.stats import shapiro\n",
    "from statsmodels.stats import weightstats as stests"
   ]
  },
  {
   "cell_type": "markdown",
   "metadata": {
    "id": "sxaVFsW9jULb"
   },
   "source": [
    "### Large Sample Test"
   ]
  },
  {
   "cell_type": "markdown",
   "metadata": {
    "id": "gl2YueUDjULe"
   },
   "source": [
    "#### One Sample Z Test"
   ]
  },
  {
   "cell_type": "markdown",
   "metadata": {
    "id": "P-QELHBOjULf"
   },
   "source": [
    "#### 1. We need to determine if girls' score on average higher than 65 in the reading test.  We collected the data of 517 girls by using random sampling from a normally distributed population and recorded their marks. Set ⍺ value (significance level) to 0.05."
   ]
  },
  {
   "cell_type": "markdown",
   "metadata": {
    "id": "dmBzZnsgjULg"
   },
   "source": [
    "Consider the reading score for female students given in the CSV file `StudentsPerformance.csv`. "
   ]
  },
  {
   "cell_type": "code",
   "execution_count": 2,
   "metadata": {},
   "outputs": [
    {
     "data": {
      "text/plain": [
       "gender\n",
       "female    517\n",
       "male      483\n",
       "Name: count, dtype: int64"
      ]
     },
     "execution_count": 2,
     "metadata": {},
     "output_type": "execute_result"
    }
   ],
   "source": [
    "df_student = pd.read_csv('StudentsPerformance.csv')\n",
    "df_student.gender.value_counts()"
   ]
  },
  {
   "cell_type": "code",
   "execution_count": 3,
   "metadata": {},
   "outputs": [
    {
     "data": {
      "text/plain": [
       "0    55\n",
       "1    63\n",
       "2    71\n",
       "5    85\n",
       "6    51\n",
       "Name: reading score, dtype: int64"
      ]
     },
     "execution_count": 3,
     "metadata": {},
     "output_type": "execute_result"
    }
   ],
   "source": [
    "scores = df_student[df_student['gender']=='female']['reading score']\n",
    "scores.head()"
   ]
  },
  {
   "cell_type": "code",
   "execution_count": 4,
   "metadata": {},
   "outputs": [
    {
     "name": "stdout",
     "output_type": "stream",
     "text": [
      "Test Statistic 0.9949188828468323\n",
      "P-Value 0.08642977476119995\n"
     ]
    }
   ],
   "source": [
    "# Let's first perform shapiro wilk test to check normality\n",
    "# Ho: Data is normal\n",
    "# Ha: Data is not normal\n",
    "\n",
    "test,p_val = shapiro(scores)\n",
    "\n",
    "print(\"Test Statistic\",test)\n",
    "print(\"P-Value\",p_val)"
   ]
  },
  {
   "cell_type": "markdown",
   "metadata": {},
   "source": [
    "Since, p-value is more than 0.05, we fail to reject null hypothesis. Therefore, Data is normally distributed."
   ]
  },
  {
   "cell_type": "code",
   "execution_count": 5,
   "metadata": {
    "id": "pGUmPDOejULg",
    "outputId": "4e71cb3e-ce50-4c23-bb38-64ac13e0fd6d",
    "scrolled": true
   },
   "outputs": [],
   "source": [
    "# Ho: mu <= 65\n",
    "# Ha: mu > 65"
   ]
  },
  {
   "cell_type": "code",
   "execution_count": 6,
   "metadata": {
    "id": "lWluzc3kjULl",
    "outputId": "446dc307-4309-4dbf-a46e-1e4e391be779"
   },
   "outputs": [
    {
     "name": "stdout",
     "output_type": "stream",
     "text": [
      "Z-Value for 5% level of significance is 1.64\n"
     ]
    }
   ],
   "source": [
    "z_val = np.abs(round(stats.norm.isf(q = 0.05),2))\n",
    "print(\"Z-Value for 5% level of significance is\",z_val)"
   ]
  },
  {
   "cell_type": "code",
   "execution_count": 7,
   "metadata": {
    "id": "C_l6ks06jULq",
    "outputId": "16de9912-dca3-4fde-ccea-9ca074241f27"
   },
   "outputs": [
    {
     "name": "stdout",
     "output_type": "stream",
     "text": [
      "Z Score 2.529410071375873\n",
      "P-Value 0.005712722457410142\n"
     ]
    }
   ],
   "source": [
    "ztest,p_val = stests.ztest(x1 = scores, value = 65, alternative = 'larger')\n",
    "print(\"Z Score\",ztest)\n",
    "print(\"P-Value\",p_val)"
   ]
  },
  {
   "cell_type": "markdown",
   "metadata": {
    "id": "rJK1u5U5jULt",
    "outputId": "4f36128f-91bc-45ea-b550-b033294046ad"
   },
   "source": [
    "As p-value is less than 0.05, we reject null hypothesis and hence conclude we have enough evidence that girls score on average is more than 65 in reading test."
   ]
  },
  {
   "cell_type": "code",
   "execution_count": 8,
   "metadata": {
    "id": "mTVgf6IPjULx",
    "outputId": "81d079de-5320-43ac-d9ef-f4d18d9d6af5"
   },
   "outputs": [],
   "source": [
    "def z_cal(samp_mean,pop_mean,samp_std,n):\n",
    "    z_score = ((samp_mean-pop_mean)/(samp_std/np.sqrt(n)))\n",
    "    return z_score"
   ]
  },
  {
   "cell_type": "code",
   "execution_count": 9,
   "metadata": {
    "id": "9cUNZPeCjUL0",
    "outputId": "5922a85f-3106-438c-c51e-a896a7bbbd4b"
   },
   "outputs": [
    {
     "name": "stdout",
     "output_type": "stream",
     "text": [
      "Confidence Interval (65.33094545307333, 67.6090932316462)\n"
     ]
    }
   ],
   "source": [
    "ci = stats.norm.interval(0.95, loc  = np.mean(scores), scale = statistics.stdev(scores)/np.sqrt(517))\n",
    "print(\"Confidence Interval\",ci)\n",
    "# statistics.stdev is used as it takes into accoun ddof as we need sample standard deviation."
   ]
  },
  {
   "cell_type": "markdown",
   "metadata": {},
   "source": [
    "The confidence interval also ranges from 65 to 67. Z-Score is more than 1.64. Hence, we have enough evidence that girls score on average is more than 65 in reading test."
   ]
  },
  {
   "cell_type": "markdown",
   "metadata": {
    "id": "qWO0MKzMjUL-"
   },
   "source": [
    "#### 2. The manager of a packaging process at a protein powder manufacturing plant wants to determine if the protein powder packing process is in control. The correct amount of protein powder per box is 350 grams on an average. A sample of 80 boxes was drawn which gave a mean of 354.5 grams with a standard deviation of 15. At 5% level of significance, is there evidence to suggest that the weight is different from 350 grams."
   ]
  },
  {
   "cell_type": "markdown",
   "metadata": {
    "id": "TsjiuTybjUL-"
   },
   "source": [
    "The null and alternative hypothesis is:\n",
    "\n",
    "H<sub>0</sub>: $\\mu = 350$<br>\n",
    "H<sub>1</sub>: $\\mu \\neq 350$\n",
    "\n",
    "Here ⍺ = 0.05, for a two-tailed test calculate the critical z-value."
   ]
  },
  {
   "cell_type": "code",
   "execution_count": 10,
   "metadata": {
    "id": "59GE3Ja4jUL_",
    "outputId": "b38a31ec-1abd-4be2-f1ae-00167953395c"
   },
   "outputs": [],
   "source": [
    "# Ho: mu = 350\n",
    "# H1: mu <> 350"
   ]
  },
  {
   "cell_type": "code",
   "execution_count": 11,
   "metadata": {
    "id": "VjZjLMZnjUMB",
    "outputId": "82ee5769-df98-4b79-c89a-460a77e1d101"
   },
   "outputs": [
    {
     "name": "stdout",
     "output_type": "stream",
     "text": [
      "Critical value for 5% level of significance for two-tailed test 1.96\n"
     ]
    }
   ],
   "source": [
    "z_val = np.abs(round(stats.norm.isf(q=0.05/2),2))\n",
    "print(\"Critical value for 5% level of significance for two-tailed test\",z_val)"
   ]
  },
  {
   "cell_type": "code",
   "execution_count": 12,
   "metadata": {
    "id": "HEFEx5jVjUME",
    "outputId": "2c41a694-b735-4258-acff-f54f2f20c5ba"
   },
   "outputs": [],
   "source": [
    "samp_mean = 354.5\n",
    "pop_mean = 350\n",
    "n = 80\n",
    "samp_std = 15"
   ]
  },
  {
   "cell_type": "code",
   "execution_count": 13,
   "metadata": {
    "id": "LJdfWHw1jUMH",
    "outputId": "fbd671a1-995a-420c-9444-9cc6afb1c087",
    "scrolled": false
   },
   "outputs": [
    {
     "name": "stdout",
     "output_type": "stream",
     "text": [
      "Z-Score 2.6832815729997477\n",
      "P-Value 0.003645179045767819\n"
     ]
    }
   ],
   "source": [
    "z_score = z_cal(samp_mean,pop_mean,samp_std,n)\n",
    "print(\"Z-Score\",z_score)\n",
    "p_val = stats.norm.sf(z_score)\n",
    "p_val_2 = p_val*2\n",
    "print(\"P-Value\",p_val)"
   ]
  },
  {
   "cell_type": "code",
   "execution_count": 14,
   "metadata": {},
   "outputs": [
    {
     "name": "stdout",
     "output_type": "stream",
     "text": [
      "Confidence interval (354.3948375364017, 354.6051624635983)\n"
     ]
    }
   ],
   "source": [
    "ci = stats.norm.interval(0.05, loc = samp_mean, scale = samp_std/np.sqrt(n))\n",
    "print(\"Confidence interval\",ci)"
   ]
  },
  {
   "cell_type": "markdown",
   "metadata": {},
   "source": [
    "Since P-value is less than 0.05, we reject null hypothesis and conclude that average weight of protein powder is different from 350gm."
   ]
  },
  {
   "cell_type": "markdown",
   "metadata": {
    "id": "6PdOJPyjjUMK"
   },
   "source": [
    "### Two Sample Z Test"
   ]
  },
  {
   "cell_type": "markdown",
   "metadata": {
    "id": "cyTUiATWjUML"
   },
   "source": [
    "#### 1. The training institute Nature Learning claims that the students trained in their institute have overall better performance than the students trained in their competitor institute Speak Global Learning. We have a sample data of 500 students from each institute along with their total score collected from independent normal populations. Frame a hypothesis and test the Nature Learning's claim with 99% confidence."
   ]
  },
  {
   "cell_type": "markdown",
   "metadata": {
    "id": "ohcYrsuzjUML"
   },
   "source": [
    "Consider the total score for students given in the CSV file `StudentsPerformance.csv`. "
   ]
  },
  {
   "cell_type": "code",
   "execution_count": 15,
   "metadata": {
    "colab": {
     "base_uri": "https://localhost:8080/",
     "height": 235
    },
    "executionInfo": {
     "elapsed": 2087,
     "status": "error",
     "timestamp": 1606967017634,
     "user": {
      "displayName": "Mallikarjuna Doddamane",
      "photoUrl": "https://lh3.googleusercontent.com/a-/AOh14GjOdnL6KUzzQMPHfk6as2xRMsOSbJoBMF9oJSaK=s64",
      "userId": "11697854241316775674"
     },
     "user_tz": -330
    },
    "id": "Xp_CVnoljUMM",
    "outputId": "b2177636-4c8a-4e14-c90e-192f05e4022f",
    "scrolled": true
   },
   "outputs": [
    {
     "data": {
      "text/html": [
       "<div>\n",
       "<style scoped>\n",
       "    .dataframe tbody tr th:only-of-type {\n",
       "        vertical-align: middle;\n",
       "    }\n",
       "\n",
       "    .dataframe tbody tr th {\n",
       "        vertical-align: top;\n",
       "    }\n",
       "\n",
       "    .dataframe thead th {\n",
       "        text-align: right;\n",
       "    }\n",
       "</style>\n",
       "<table border=\"1\" class=\"dataframe\">\n",
       "  <thead>\n",
       "    <tr style=\"text-align: right;\">\n",
       "      <th></th>\n",
       "      <th>gender</th>\n",
       "      <th>race/ethnicity</th>\n",
       "      <th>lunch</th>\n",
       "      <th>test preparation course</th>\n",
       "      <th>math score</th>\n",
       "      <th>reading score</th>\n",
       "      <th>writing score</th>\n",
       "      <th>total score</th>\n",
       "      <th>training institute</th>\n",
       "    </tr>\n",
       "  </thead>\n",
       "  <tbody>\n",
       "    <tr>\n",
       "      <th>0</th>\n",
       "      <td>female</td>\n",
       "      <td>group B</td>\n",
       "      <td>standard</td>\n",
       "      <td>none</td>\n",
       "      <td>89</td>\n",
       "      <td>55</td>\n",
       "      <td>56</td>\n",
       "      <td>200</td>\n",
       "      <td>Nature Learning</td>\n",
       "    </tr>\n",
       "    <tr>\n",
       "      <th>1</th>\n",
       "      <td>female</td>\n",
       "      <td>group C</td>\n",
       "      <td>standard</td>\n",
       "      <td>completed</td>\n",
       "      <td>55</td>\n",
       "      <td>63</td>\n",
       "      <td>72</td>\n",
       "      <td>190</td>\n",
       "      <td>Nature Learning</td>\n",
       "    </tr>\n",
       "  </tbody>\n",
       "</table>\n",
       "</div>"
      ],
      "text/plain": [
       "   gender race/ethnicity     lunch test preparation course  math score  \\\n",
       "0  female        group B  standard                    none          89   \n",
       "1  female        group C  standard               completed          55   \n",
       "\n",
       "   reading score  writing score  total score training institute  \n",
       "0             55             56          200    Nature Learning  \n",
       "1             63             72          190    Nature Learning  "
      ]
     },
     "execution_count": 15,
     "metadata": {},
     "output_type": "execute_result"
    }
   ],
   "source": [
    "df_student = pd.read_csv(\"StudentsPerformance.csv\")\n",
    "df_student.head(2)"
   ]
  },
  {
   "cell_type": "code",
   "execution_count": 16,
   "metadata": {
    "colab": {
     "base_uri": "https://localhost:8080/",
     "height": 235
    },
    "executionInfo": {
     "elapsed": 5085,
     "status": "error",
     "timestamp": 1606967020642,
     "user": {
      "displayName": "Mallikarjuna Doddamane",
      "photoUrl": "https://lh3.googleusercontent.com/a-/AOh14GjOdnL6KUzzQMPHfk6as2xRMsOSbJoBMF9oJSaK=s64",
      "userId": "11697854241316775674"
     },
     "user_tz": -330
    },
    "id": "v8OPjxTxjUMO",
    "outputId": "f93877ac-28f9-4d55-efc5-7f1f4807d0b2"
   },
   "outputs": [],
   "source": [
    "nl_scores = df_student[df_student[\"training institute\"]==\"Nature Learning\"]['total score']\n",
    "n1 = len(nl_scores)\n",
    "nl_mean = np.mean(nl_scores)\n",
    "nl_std = statistics.stdev(nl_scores)\n",
    "\n",
    "sgl_scores = df_student[df_student[\"training institute\"]==\"Speak Global Learning\"][\"total score\"]\n",
    "n2 = len(sgl_scores)\n",
    "sgl_mean = np.mean(sgl_scores)\n",
    "sgl_std = statistics.stdev(sgl_scores)"
   ]
  },
  {
   "cell_type": "code",
   "execution_count": 17,
   "metadata": {
    "executionInfo": {
     "elapsed": 5070,
     "status": "aborted",
     "timestamp": 1606967020630,
     "user": {
      "displayName": "Mallikarjuna Doddamane",
      "photoUrl": "https://lh3.googleusercontent.com/a-/AOh14GjOdnL6KUzzQMPHfk6as2xRMsOSbJoBMF9oJSaK=s64",
      "userId": "11697854241316775674"
     },
     "user_tz": -330
    },
    "id": "aFqcI0oFjUMS"
   },
   "outputs": [
    {
     "name": "stdout",
     "output_type": "stream",
     "text": [
      "Test Statistic Value is 0.9987770915031433\n",
      "P-Value is 0.7399389743804932\n"
     ]
    }
   ],
   "source": [
    "# Performing Shapiro Wilk test to Check for Normality\n",
    "\n",
    "# Ho: Data is Normal\n",
    "# H1: Data is not Normal\n",
    "\n",
    "stat,p_val = stats.shapiro(df_student['total score'])\n",
    "print(\"Test Statistic Value is\",stat)\n",
    "print(\"P-Value is\",p_val)"
   ]
  },
  {
   "cell_type": "markdown",
   "metadata": {
    "executionInfo": {
     "elapsed": 5070,
     "status": "aborted",
     "timestamp": 1606967020632,
     "user": {
      "displayName": "Mallikarjuna Doddamane",
      "photoUrl": "https://lh3.googleusercontent.com/a-/AOh14GjOdnL6KUzzQMPHfk6as2xRMsOSbJoBMF9oJSaK=s64",
      "userId": "11697854241316775674"
     },
     "user_tz": -330
    },
    "id": "Rlrj4Vr3jUMV"
   },
   "source": [
    "Data is normally distributed as the p-value is greater than 0.05."
   ]
  },
  {
   "cell_type": "code",
   "execution_count": 18,
   "metadata": {},
   "outputs": [
    {
     "name": "stdout",
     "output_type": "stream",
     "text": [
      "Test Statistic 0.6422721347822817\n",
      "P-Value 0.42307998325221574\n"
     ]
    }
   ],
   "source": [
    "# Performing Levene's test to check for equality of variance\n",
    "\n",
    "# Ho: There is equality of variance\n",
    "# H1: There is no equality of variance\n",
    "\n",
    "stat, p_val = stats.levene(nl_scores, sgl_scores)\n",
    "print(\"Test Statistic\",stat)\n",
    "print(\"P-Value\",p_val)"
   ]
  },
  {
   "cell_type": "markdown",
   "metadata": {},
   "source": [
    "Since, p-value is greater than 0.05, we fail to reject null hypothesis. Therefore, there is equality of variance."
   ]
  },
  {
   "cell_type": "code",
   "execution_count": 19,
   "metadata": {},
   "outputs": [],
   "source": [
    "# Ho: mu1 <= mu2\n",
    "# H1: mu1 > mu2"
   ]
  },
  {
   "cell_type": "code",
   "execution_count": 20,
   "metadata": {},
   "outputs": [
    {
     "name": "stdout",
     "output_type": "stream",
     "text": [
      "Critical value for one-tailed z-test is 2.33\n"
     ]
    }
   ],
   "source": [
    "# Level of significance is 0.01\n",
    "z_val = np.abs(round(stats.norm.isf(q=0.01),2))\n",
    "print(\"Critical value for one-tailed z-test is\",z_val)"
   ]
  },
  {
   "cell_type": "code",
   "execution_count": 21,
   "metadata": {},
   "outputs": [
    {
     "name": "stdout",
     "output_type": "stream",
     "text": [
      "Z-Score 0.15125511253949914\n",
      "P-Value 0.43988723840898025\n"
     ]
    }
   ],
   "source": [
    "zscore, p_val = stests.ztest(x1 = nl_scores, x2 = sgl_scores, value = 0, alternative = 'larger')\n",
    "print(\"Z-Score\",zscore)\n",
    "print(\"P-Value\",p_val)"
   ]
  },
  {
   "cell_type": "code",
   "execution_count": 22,
   "metadata": {},
   "outputs": [
    {
     "name": "stdout",
     "output_type": "stream",
     "text": [
      "Confidence Interval (-3.5585935666371427, 4.002593566637103)\n"
     ]
    }
   ],
   "source": [
    "ci = stats.norm.interval(0.99, loc = nl_mean-sgl_mean, scale = np.sqrt( ((nl_std**2)/n1) +((sgl_std**2)/n2) ))\n",
    "print(\"Confidence Interval\",ci)"
   ]
  },
  {
   "cell_type": "markdown",
   "metadata": {},
   "source": [
    "Since p-value is more than 0.01 and the confidence interval contains value in null hypothesis (i.e. 0), we fail to reject null hypothesis. Therefore, we can conclude that there is no enough evidence for students trained by Nature learning perform better than Speak Global Learning. "
   ]
  },
  {
   "cell_type": "markdown",
   "metadata": {
    "id": "obvwn0HrjUMk"
   },
   "source": [
    "#### 2. A study was carried out to understand amount of haemoglobin in blood for males and females. A random sample of 160 males and 180 females have means of 13 g/dl and 15 g/dl. The two samples have standard deviation of 4.1 g/dl for male donors and 3.5 g/dl for female donor . Can it be said the population means of concentrations of the elements are the same for men and women? Use  α = 0.01."
   ]
  },
  {
   "cell_type": "code",
   "execution_count": 23,
   "metadata": {
    "executionInfo": {
     "elapsed": 5066,
     "status": "aborted",
     "timestamp": 1606967020638,
     "user": {
      "displayName": "Mallikarjuna Doddamane",
      "photoUrl": "https://lh3.googleusercontent.com/a-/AOh14GjOdnL6KUzzQMPHfk6as2xRMsOSbJoBMF9oJSaK=s64",
      "userId": "11697854241316775674"
     },
     "user_tz": -330
    },
    "id": "VnWc9QsfjUMl"
   },
   "outputs": [],
   "source": [
    "# Ho: mu1-mu2 = 0\n",
    "# H1: mu1-mu2 <> 0"
   ]
  },
  {
   "cell_type": "code",
   "execution_count": 24,
   "metadata": {
    "executionInfo": {
     "elapsed": 5066,
     "status": "aborted",
     "timestamp": 1606967020640,
     "user": {
      "displayName": "Mallikarjuna Doddamane",
      "photoUrl": "https://lh3.googleusercontent.com/a-/AOh14GjOdnL6KUzzQMPHfk6as2xRMsOSbJoBMF9oJSaK=s64",
      "userId": "11697854241316775674"
     },
     "user_tz": -330
    },
    "id": "PV-QXFOajUMp"
   },
   "outputs": [
    {
     "name": "stdout",
     "output_type": "stream",
     "text": [
      "Z-Value for 1% level of significance is 2.58\n"
     ]
    }
   ],
   "source": [
    "z_val = np.abs(round(stats.norm.isf(q = 0.01/2),2))\n",
    "print(\"Z-Value for 1% level of significance is\",z_val)"
   ]
  },
  {
   "cell_type": "code",
   "execution_count": 25,
   "metadata": {
    "executionInfo": {
     "elapsed": 5062,
     "status": "aborted",
     "timestamp": 1606967020640,
     "user": {
      "displayName": "Mallikarjuna Doddamane",
      "photoUrl": "https://lh3.googleusercontent.com/a-/AOh14GjOdnL6KUzzQMPHfk6as2xRMsOSbJoBMF9oJSaK=s64",
      "userId": "11697854241316775674"
     },
     "user_tz": -330
    },
    "id": "vYB2K-5ZjUMr"
   },
   "outputs": [],
   "source": [
    "def twosampztest(samp_mean_1, samp_mean_2, samp_std_1, samp_std_2, value, n1, n2):\n",
    "    denominator = np.sqrt((samp_std_1**2/n1) + (samp_std_2**2/n2))\n",
    "    zscore = ((samp_mean_1 - samp_mean_2) - (value))/denominator\n",
    "    return zscore\n",
    "\n",
    "# value = pop_mean_1 - pop_mean_2 -- Here, this value is 0 (i.e. mu1-mu2 = 0)"
   ]
  },
  {
   "cell_type": "code",
   "execution_count": 26,
   "metadata": {
    "executionInfo": {
     "elapsed": 5061,
     "status": "aborted",
     "timestamp": 1606967020641,
     "user": {
      "displayName": "Mallikarjuna Doddamane",
      "photoUrl": "https://lh3.googleusercontent.com/a-/AOh14GjOdnL6KUzzQMPHfk6as2xRMsOSbJoBMF9oJSaK=s64",
      "userId": "11697854241316775674"
     },
     "user_tz": -330
    },
    "id": "37Q1qRJ4jUMt",
    "scrolled": false
   },
   "outputs": [
    {
     "name": "stdout",
     "output_type": "stream",
     "text": [
      "Z-Score -4.806830552525058\n"
     ]
    }
   ],
   "source": [
    "sm_1 = 13\n",
    "sm_2 = 15\n",
    "n1 = 160\n",
    "n2 = 180\n",
    "sstd_1 = 4.1\n",
    "sstd_2 = 3.5\n",
    "value = 0\n",
    "\n",
    "zscore = twosampztest(samp_mean_1 = sm_1, samp_mean_2 = sm_2, samp_std_1 = sstd_1, samp_std_2 = sstd_2, value = value, n1 = n1, n2 = n2)\n",
    "print('Z-Score',zscore)"
   ]
  },
  {
   "cell_type": "code",
   "execution_count": 27,
   "metadata": {},
   "outputs": [
    {
     "name": "stdout",
     "output_type": "stream",
     "text": [
      "P-value: 1.5334185117556497e-06\n"
     ]
    }
   ],
   "source": [
    "p_value = stats.norm.cdf(zscore)\n",
    "req_p_val = p_value*2\n",
    "print('P-value:',req_p_val)"
   ]
  },
  {
   "cell_type": "code",
   "execution_count": 28,
   "metadata": {},
   "outputs": [
    {
     "name": "stdout",
     "output_type": "stream",
     "text": [
      "Confidence Interval (-3.0717370938718864, -0.9282629061281136)\n"
     ]
    }
   ],
   "source": [
    "ci = stats.norm.interval(0.99, loc = sm_1-sm_2, scale = np.sqrt((sstd_1**2/n1) + (sstd_2**2/n2)))\n",
    "print(\"Confidence Interval\",ci)"
   ]
  },
  {
   "cell_type": "markdown",
   "metadata": {},
   "source": [
    "Since p-value is less than 0.01, we reject null hypothesis. Therefore we don't have enough evidence to conclude that both the population mean of men and women haemoglobin levels are equal."
   ]
  },
  {
   "cell_type": "markdown",
   "metadata": {
    "id": "1FHZAY-0jUMv"
   },
   "source": [
    "### Small Sample Test"
   ]
  },
  {
   "cell_type": "markdown",
   "metadata": {
    "id": "NI4skzgvjUMw"
   },
   "source": [
    "#### One Sample t Test"
   ]
  },
  {
   "cell_type": "markdown",
   "metadata": {
    "id": "5BunXsmKjUMx"
   },
   "source": [
    "#### 1. A survey claims that in a math test female students tend to score fewer marks than the average marks of 75 out of 100. Consider a sample of 24 female students and perform a hypothesis test to check the claim with 90% confidence.\n",
    "\n",
    "Dataset available in the CSV file `mathscore_1ttest.csv`."
   ]
  },
  {
   "cell_type": "code",
   "execution_count": 29,
   "metadata": {
    "id": "2BmgR1ZkjUMy",
    "outputId": "2aff6b88-a1d3-4ae4-f83e-37e8578f362a",
    "scrolled": false
   },
   "outputs": [
    {
     "data": {
      "text/html": [
       "<div>\n",
       "<style scoped>\n",
       "    .dataframe tbody tr th:only-of-type {\n",
       "        vertical-align: middle;\n",
       "    }\n",
       "\n",
       "    .dataframe tbody tr th {\n",
       "        vertical-align: top;\n",
       "    }\n",
       "\n",
       "    .dataframe thead th {\n",
       "        text-align: right;\n",
       "    }\n",
       "</style>\n",
       "<table border=\"1\" class=\"dataframe\">\n",
       "  <thead>\n",
       "    <tr style=\"text-align: right;\">\n",
       "      <th></th>\n",
       "      <th>gender</th>\n",
       "      <th>race/ethnicity</th>\n",
       "      <th>lunch</th>\n",
       "      <th>test preparation course</th>\n",
       "      <th>math score</th>\n",
       "      <th>reading score</th>\n",
       "      <th>writing score</th>\n",
       "      <th>total score</th>\n",
       "      <th>training institute</th>\n",
       "    </tr>\n",
       "  </thead>\n",
       "  <tbody>\n",
       "    <tr>\n",
       "      <th>0</th>\n",
       "      <td>female</td>\n",
       "      <td>group C</td>\n",
       "      <td>standard</td>\n",
       "      <td>none</td>\n",
       "      <td>60</td>\n",
       "      <td>72</td>\n",
       "      <td>74</td>\n",
       "      <td>206</td>\n",
       "      <td>Nature Learning</td>\n",
       "    </tr>\n",
       "    <tr>\n",
       "      <th>1</th>\n",
       "      <td>female</td>\n",
       "      <td>group C</td>\n",
       "      <td>standard</td>\n",
       "      <td>none</td>\n",
       "      <td>59</td>\n",
       "      <td>72</td>\n",
       "      <td>68</td>\n",
       "      <td>199</td>\n",
       "      <td>Nature Learning</td>\n",
       "    </tr>\n",
       "  </tbody>\n",
       "</table>\n",
       "</div>"
      ],
      "text/plain": [
       "   gender race/ethnicity     lunch test preparation course  math score  \\\n",
       "0  female        group C  standard                    none          60   \n",
       "1  female        group C  standard                    none          59   \n",
       "\n",
       "   reading score  writing score  total score training institute  \n",
       "0             72             74          206    Nature Learning  \n",
       "1             72             68          199    Nature Learning  "
      ]
     },
     "execution_count": 29,
     "metadata": {},
     "output_type": "execute_result"
    }
   ],
   "source": [
    "df_scores = pd.read_csv('mathscore_1ttest.csv')\n",
    "df_scores.head(2)"
   ]
  },
  {
   "cell_type": "code",
   "execution_count": 30,
   "metadata": {
    "id": "QZAdbvRRjUM0",
    "outputId": "e3ff8879-a49b-438c-b873-3b784d9edd18"
   },
   "outputs": [
    {
     "name": "stdout",
     "output_type": "stream",
     "text": [
      "Degrees of freedom 23\n"
     ]
    }
   ],
   "source": [
    "math_marks = list(df_scores['math score'])\n",
    "sample_avg = np.mean(math_marks)\n",
    "sample_std = statistics.stdev(math_marks)\n",
    "n = len(math_marks)\n",
    "dof = n-1\n",
    "print(\"Degrees of freedom\",dof)"
   ]
  },
  {
   "cell_type": "code",
   "execution_count": 31,
   "metadata": {
    "id": "Y0lsg7OfjUM4",
    "outputId": "02b075dd-b56b-474e-ab05-fd14800fd6b9"
   },
   "outputs": [
    {
     "name": "stdout",
     "output_type": "stream",
     "text": [
      "Test Statistic 0.9368310570716858\n",
      "P-Value 0.13859796524047852\n"
     ]
    }
   ],
   "source": [
    "# Test of normality\n",
    "stat,p_val = shapiro(math_marks)\n",
    "print(\"Test Statistic\",stat)\n",
    "print(\"P-Value\",p_val)"
   ]
  },
  {
   "cell_type": "code",
   "execution_count": 32,
   "metadata": {
    "id": "W9CNp8eGjUM8",
    "outputId": "aa201012-de6c-4661-ec24-8e24397f1e4c",
    "scrolled": true
   },
   "outputs": [],
   "source": [
    "# Ho: mu>=75\n",
    "# H1: mu<75"
   ]
  },
  {
   "cell_type": "code",
   "execution_count": 33,
   "metadata": {
    "id": "vHi2-Cc6jUM-"
   },
   "outputs": [
    {
     "name": "stdout",
     "output_type": "stream",
     "text": [
      "Critical value for one tailed t-test 1.32\n"
     ]
    }
   ],
   "source": [
    "t_val = round(stats.t.isf(q = 0.1, df = 23),2)\n",
    "print(\"Critical value for one tailed t-test\",t_val)"
   ]
  },
  {
   "cell_type": "code",
   "execution_count": 34,
   "metadata": {
    "id": "pJp59RtbjUNC",
    "outputId": "e165fa72-58ac-494f-a6db-7cefdba2901e"
   },
   "outputs": [
    {
     "name": "stdout",
     "output_type": "stream",
     "text": [
      "Test Statistic -3.6067380757023204\n",
      "P-Value 0.0007426613957678669\n"
     ]
    }
   ],
   "source": [
    "t_stat,p_val = stats.ttest_1samp(a = math_marks, popmean = 75)\n",
    "req_p_val = p_val/2\n",
    "\n",
    "print(\"Test Statistic\",t_stat)\n",
    "print(\"P-Value\",req_p_val)"
   ]
  },
  {
   "cell_type": "code",
   "execution_count": 35,
   "metadata": {
    "id": "dUcTZ42RjUNE",
    "outputId": "dde5ccfe-8405-4349-95de-e395d9de5750",
    "scrolled": false
   },
   "outputs": [
    {
     "name": "stdout",
     "output_type": "stream",
     "text": [
      "Confidence Interval (62.399452707061236, 70.51721395960543)\n"
     ]
    }
   ],
   "source": [
    "ci = stats.t.interval(0.90, df = n-1, loc = sample_avg, scale = sample_std/np.sqrt(n))\n",
    "print(\"Confidence Interval\",ci)"
   ]
  },
  {
   "cell_type": "markdown",
   "metadata": {
    "id": "n1mai4npjUNK",
    "outputId": "a55f96c5-847a-42da-c5f2-0cf36467e298",
    "scrolled": false
   },
   "source": [
    "Since p-value is less than 0.1, we reject null hypothesis. Therefore, we conclude that female students tend to score marks greater than 75 in the math test."
   ]
  },
  {
   "cell_type": "markdown",
   "metadata": {
    "id": "JtUrRwbwjUNN"
   },
   "source": [
    "#### 2. A researcher is studying the growth of bacteria in waters of Lake Beach. The mean bacteria count of 100 per unit volume of water is within the safety level. The researcher collected 10 water samples of unit volume and found the mean bacteria count to be 94.8 with a sample variance of 72.66. Does the data indicate that the bacteria count is within the safety level? Test at the α = .05 level. Assume that the measurements constitute a sample from a normal population."
   ]
  },
  {
   "cell_type": "code",
   "execution_count": 36,
   "metadata": {
    "id": "FFGnHy1DjUNO",
    "outputId": "75328a14-5497-42ca-d62f-dd4aa40746be",
    "scrolled": false
   },
   "outputs": [],
   "source": [
    "# Ho: mu>=100\n",
    "# H1: mu<100"
   ]
  },
  {
   "cell_type": "code",
   "execution_count": 37,
   "metadata": {
    "id": "-Go5RBqpjUNQ",
    "outputId": "5d3f6276-9f72-4f44-8c1d-7d74ff0461a7"
   },
   "outputs": [
    {
     "name": "stdout",
     "output_type": "stream",
     "text": [
      "Critical value for one-tailed t-test 1.83\n"
     ]
    }
   ],
   "source": [
    "t_val = round(stats.t.isf(q = 0.05, df = 9),2)\n",
    "print(\"Critical value for one-tailed t-test\",t_val)"
   ]
  },
  {
   "cell_type": "code",
   "execution_count": 38,
   "metadata": {
    "id": "2rDQy6GejUNS",
    "outputId": "f2c94305-73c5-405e-e977-ff8377530448"
   },
   "outputs": [
    {
     "name": "stdout",
     "output_type": "stream",
     "text": [
      "T-Score -1.9291040236750068\n"
     ]
    }
   ],
   "source": [
    "def ttest(pop_mean, samp_std, n, samp_mean):\n",
    "    t_score = (samp_mean-pop_mean)/(samp_std/np.sqrt(n))\n",
    "    return t_score\n",
    "\n",
    "n = 10\n",
    "pop_mean = 100\n",
    "samp_var = 72.66\n",
    "samp_mean = 94.8\n",
    "\n",
    "samp_std = np.sqrt(samp_var)\n",
    "\n",
    "t_score = ttest(pop_mean, samp_std, n, samp_mean)\n",
    "print(\"T-Score\",t_score)"
   ]
  },
  {
   "cell_type": "code",
   "execution_count": 39,
   "metadata": {},
   "outputs": [
    {
     "name": "stdout",
     "output_type": "stream",
     "text": [
      "P-Value 0.04289782134327503\n"
     ]
    }
   ],
   "source": [
    "p_value = stats.t.cdf(t_score, df = 9)\n",
    "print(\"P-Value\",p_value)"
   ]
  },
  {
   "cell_type": "markdown",
   "metadata": {},
   "source": [
    "Since p-value is less than 0.05, we reject null hypothesis we can conlcude that the average bacteria per unit volume is within safety levels."
   ]
  },
  {
   "cell_type": "markdown",
   "metadata": {
    "id": "xB0iAEpyjUNV"
   },
   "source": [
    "#### Two Sample t Test (Unpaired)"
   ]
  },
  {
   "cell_type": "markdown",
   "metadata": {
    "id": "pdA-6L1tjUNX"
   },
   "source": [
    "#### 1. The teachers' association claims that the total score of the students who completed the test preparation course is different than the total score of the students who have not completed the course. The sample data consists of 15 students who completed the course and 18 students who have not completed the course. Test the association's claim with ⍺ = 0.05."
   ]
  },
  {
   "cell_type": "markdown",
   "metadata": {
    "id": "rDve_0ZzjUNY"
   },
   "source": [
    "Consider the total score of the students who have/ have not completed the preparation course are given in the CSV file `totalmarks_2ttest.csv`."
   ]
  },
  {
   "cell_type": "code",
   "execution_count": 40,
   "metadata": {
    "id": "tXitheyTjUNY",
    "outputId": "99b4f609-fbc3-4de5-82ab-2f7288f3f510",
    "scrolled": false
   },
   "outputs": [
    {
     "data": {
      "text/html": [
       "<div>\n",
       "<style scoped>\n",
       "    .dataframe tbody tr th:only-of-type {\n",
       "        vertical-align: middle;\n",
       "    }\n",
       "\n",
       "    .dataframe tbody tr th {\n",
       "        vertical-align: top;\n",
       "    }\n",
       "\n",
       "    .dataframe thead th {\n",
       "        text-align: right;\n",
       "    }\n",
       "</style>\n",
       "<table border=\"1\" class=\"dataframe\">\n",
       "  <thead>\n",
       "    <tr style=\"text-align: right;\">\n",
       "      <th></th>\n",
       "      <th>gender</th>\n",
       "      <th>race/ethnicity</th>\n",
       "      <th>lunch</th>\n",
       "      <th>test preparation course</th>\n",
       "      <th>math score</th>\n",
       "      <th>reading score</th>\n",
       "      <th>writing score</th>\n",
       "      <th>total score</th>\n",
       "      <th>training institute</th>\n",
       "    </tr>\n",
       "  </thead>\n",
       "  <tbody>\n",
       "    <tr>\n",
       "      <th>0</th>\n",
       "      <td>male</td>\n",
       "      <td>group E</td>\n",
       "      <td>standard</td>\n",
       "      <td>completed</td>\n",
       "      <td>84</td>\n",
       "      <td>83</td>\n",
       "      <td>78</td>\n",
       "      <td>245</td>\n",
       "      <td>Speak Global Learning</td>\n",
       "    </tr>\n",
       "    <tr>\n",
       "      <th>1</th>\n",
       "      <td>male</td>\n",
       "      <td>group C</td>\n",
       "      <td>free/reduced</td>\n",
       "      <td>completed</td>\n",
       "      <td>79</td>\n",
       "      <td>77</td>\n",
       "      <td>75</td>\n",
       "      <td>231</td>\n",
       "      <td>Speak Global Learning</td>\n",
       "    </tr>\n",
       "  </tbody>\n",
       "</table>\n",
       "</div>"
      ],
      "text/plain": [
       "  gender race/ethnicity         lunch test preparation course  math score  \\\n",
       "0   male        group E      standard               completed          84   \n",
       "1   male        group C  free/reduced               completed          79   \n",
       "\n",
       "   reading score  writing score  total score     training institute  \n",
       "0             83             78          245  Speak Global Learning  \n",
       "1             77             75          231  Speak Global Learning  "
      ]
     },
     "execution_count": 40,
     "metadata": {},
     "output_type": "execute_result"
    }
   ],
   "source": [
    "df_test_prep = pd.read_csv('totalmarks_2ttest.csv')\n",
    "df_test_prep.head(2)"
   ]
  },
  {
   "cell_type": "code",
   "execution_count": 41,
   "metadata": {
    "id": "9E4fXDWSjUNa",
    "outputId": "c1d0dc69-cf2a-481b-b80c-a7c3a2954638"
   },
   "outputs": [
    {
     "name": "stdout",
     "output_type": "stream",
     "text": [
      "Degrees of freedom 31\n"
     ]
    }
   ],
   "source": [
    "course_comp = df_test_prep[df_test_prep['test preparation course'] == 'completed']['total score']\n",
    "n1 = len(course_comp)\n",
    "samp_avg1 = np.mean(course_comp)\n",
    "samp_std1 = statistics.stdev(course_comp)\n",
    "\n",
    "course_incomp = df_test_prep[df_test_prep['test preparation course'] == 'none']['total score']\n",
    "n2 = len(course_incomp)\n",
    "samp_avg2 = np.mean(course_incomp)\n",
    "samp_std2 = statistics.stdev(course_incomp)\n",
    "\n",
    "dof = n1+n2-2\n",
    "print(\"Degrees of freedom\",dof)"
   ]
  },
  {
   "cell_type": "code",
   "execution_count": 42,
   "metadata": {
    "id": "N0k0f_mKjUNc",
    "outputId": "6f2847d3-7809-48c6-fabd-f9e77b3d1119"
   },
   "outputs": [
    {
     "name": "stdout",
     "output_type": "stream",
     "text": [
      "Statistic value 0.9845389723777771\n",
      "P-Value 0.9080861806869507\n"
     ]
    }
   ],
   "source": [
    "# Test for normality\n",
    "\n",
    "# Ho: Data is normal\n",
    "# H1: Data is not normal\n",
    "\n",
    "stat,p_val = shapiro(df_test_prep['total score'])\n",
    "print(\"Statistic value\",stat)\n",
    "print(\"P-Value\",p_val)"
   ]
  },
  {
   "cell_type": "markdown",
   "metadata": {
    "id": "eXbuEJGbjUNh",
    "outputId": "96bb2529-d5be-45ef-acb2-db9c03972073"
   },
   "source": [
    "Since p-value is more than 0.05 we fail to reject null hypothesis and therefore data is normal"
   ]
  },
  {
   "cell_type": "code",
   "execution_count": 43,
   "metadata": {
    "id": "YwtveqfTjUNo",
    "outputId": "06e820b1-7ac7-4954-b993-3a74abd2cecf",
    "scrolled": true
   },
   "outputs": [
    {
     "name": "stdout",
     "output_type": "stream",
     "text": [
      "Statistic value 0.045113770764648356\n",
      "P-Value 0.8331854285659768\n"
     ]
    }
   ],
   "source": [
    "# Levene's test to test equality of variance\n",
    "stat,p_val = stats.levene(course_comp,course_incomp)\n",
    "print(\"Statistic value\",stat)\n",
    "print(\"P-Value\",p_val)"
   ]
  },
  {
   "cell_type": "code",
   "execution_count": 44,
   "metadata": {},
   "outputs": [],
   "source": [
    "# Ho: mu1 - mu2 = 0\n",
    "# H1: mu1 - mu2 <> 0"
   ]
  },
  {
   "cell_type": "code",
   "execution_count": 45,
   "metadata": {},
   "outputs": [
    {
     "name": "stdout",
     "output_type": "stream",
     "text": [
      "Critical value of two tailed test 2.04\n"
     ]
    }
   ],
   "source": [
    "t_val = np.abs(round(stats.t.isf(q = 0.05/2, df = dof),2))\n",
    "print('Critical value of two tailed test',t_val)"
   ]
  },
  {
   "cell_type": "code",
   "execution_count": 46,
   "metadata": {
    "id": "WdkD_tzkjUNr",
    "outputId": "d5324c01-4431-4f31-b728-d3e2014c8853",
    "scrolled": true
   },
   "outputs": [
    {
     "name": "stdout",
     "output_type": "stream",
     "text": [
      "Test statistics 1.4385323319823262\n",
      "P-Value 0.16030339806989594\n"
     ]
    }
   ],
   "source": [
    "t_stat,p_val = stats.ttest_ind(a = course_comp, b = course_incomp)\n",
    "print(\"Test statistics\",t_stat)\n",
    "print(\"P-Value\",p_val)"
   ]
  },
  {
   "cell_type": "code",
   "execution_count": 47,
   "metadata": {
    "id": "d2dTQLuwjUNs",
    "outputId": "94aeb9b1-224b-45d3-b372-808e408debda",
    "scrolled": false
   },
   "outputs": [
    {
     "name": "stdout",
     "output_type": "stream",
     "text": [
      "95% confidence interval for population mean is (-7.25533827425955, 41.9886716075929)\n"
     ]
    }
   ],
   "source": [
    "# pooled standard deviation\n",
    "s = np.sqrt((((n1-1)*samp_std1**2) + ((n2-1)*samp_std2**2)) / (n1 + n2 - 2))\n",
    "\n",
    "ci = stats.t.interval(0.95, df = n1 + n2 - 2, loc = samp_avg1 - samp_avg2, scale = s * np.sqrt(1/n1 + 1/n2))\n",
    "print('95% confidence interval for population mean is', ci)"
   ]
  },
  {
   "cell_type": "markdown",
   "metadata": {},
   "source": [
    "Since the p-value is greater than 0.05, also the confidence interval contains the value in the null hypothesis (i.e. 0). Therefore, we fail to reject the null hypothesis and conclude that there is no difference in the total marks of the students who have completed the preparation course and who have not completed the preparation course."
   ]
  },
  {
   "cell_type": "markdown",
   "metadata": {
    "id": "L0LxrVdxjUN9"
   },
   "source": [
    "### Paired t Test"
   ]
  },
  {
   "cell_type": "markdown",
   "metadata": {
    "id": "99MYxwsYjUN-"
   },
   "source": [
    "#### 1. A training institute wants to check if their writing training program was effective or not. 17 students are selected to check the hypothesis. Consider 0.05 as the level of significance.\n",
    "\n",
    "The writing scores before and after training are provided in the CSV file `WritingScores.csv`. "
   ]
  },
  {
   "cell_type": "code",
   "execution_count": 48,
   "metadata": {
    "id": "qpwYwLRGjUN-",
    "outputId": "4633585a-faf2-4720-eeb7-fcb1fc63de42",
    "scrolled": true
   },
   "outputs": [],
   "source": [
    "df_score = pd.read_csv('WritingScores.csv')"
   ]
  },
  {
   "cell_type": "code",
   "execution_count": 49,
   "metadata": {
    "id": "K9-IW8FjjUN_",
    "outputId": "2a2e1b30-ea01-4db7-d55f-18678623f9ed"
   },
   "outputs": [],
   "source": [
    "diff_marks = df_score['score_after'] - df_score['score_before']\n",
    "mean_diff = np.mean(diff_marks)\n",
    "std_diff = statistics.stdev(diff_marks)\n",
    "n = len(df_score)\n",
    "dof = n-1"
   ]
  },
  {
   "cell_type": "code",
   "execution_count": 50,
   "metadata": {
    "id": "iXH_DB-6jUOB",
    "outputId": "5e69a6a8-a912-4550-dc16-cbc8cd1873f9"
   },
   "outputs": [
    {
     "name": "stdout",
     "output_type": "stream",
     "text": [
      "Score Before\n",
      "Test Statistic 0.947382390499115\n",
      "P-Value 0.41645893454551697\n",
      "\n",
      "Score After\n",
      "Test Statistic 0.9686525464057922\n",
      "P-Value 0.7944169044494629\n"
     ]
    }
   ],
   "source": [
    "# Test for normality\n",
    "\n",
    "# Ho: Data is normal\n",
    "# Ha: Data is not normal\n",
    "\n",
    "print('Score Before')\n",
    "stat,p_val = shapiro(df_score['score_before'])\n",
    "print(\"Test Statistic\",stat)\n",
    "print(\"P-Value\",p_val)\n",
    "print()\n",
    "print('Score After')\n",
    "stat,p_val = shapiro(df_score['score_after'])\n",
    "print(\"Test Statistic\",stat)\n",
    "print(\"P-Value\",p_val)"
   ]
  },
  {
   "cell_type": "markdown",
   "metadata": {
    "id": "F0I_pTD1jUOE",
    "outputId": "994edaa8-54d5-4b63-9f20-8988d6804bc0"
   },
   "source": [
    "From the above, p-value is more than 0.05 therefore we fail to reject null hypothesis."
   ]
  },
  {
   "cell_type": "code",
   "execution_count": 51,
   "metadata": {
    "id": "PDx9EoDRjUOG",
    "outputId": "4af4ebe0-57c3-4437-9712-a5cad5000e57"
   },
   "outputs": [],
   "source": [
    "# Ho: mu = 0 (The training was not effective)\n",
    "# Ha: mu <> 0 The training was effective)"
   ]
  },
  {
   "cell_type": "code",
   "execution_count": 52,
   "metadata": {
    "id": "45TajZ6wjUOK",
    "outputId": "e5c68ef3-996a-4f16-a89e-3bfac62697c6"
   },
   "outputs": [
    {
     "name": "stdout",
     "output_type": "stream",
     "text": [
      "Critical value for two-tailed t-test is 2.12\n"
     ]
    }
   ],
   "source": [
    "t_val = np.abs(round(stats.t.isf(q=0.05/2, df = dof),2))\n",
    "print(\"Critical value for two-tailed t-test is\",t_val)"
   ]
  },
  {
   "cell_type": "code",
   "execution_count": 53,
   "metadata": {
    "id": "-pzaUN_4jUOM",
    "outputId": "4509d9e0-26d2-4b95-933d-215307901269",
    "scrolled": false
   },
   "outputs": [
    {
     "name": "stdout",
     "output_type": "stream",
     "text": [
      "Test Statistic 1.4394882729049499\n",
      "P-Value 0.16929012896279846\n"
     ]
    }
   ],
   "source": [
    "t_stat,p_val = stats.ttest_rel(df_score['score_after'],df_score['score_before'])\n",
    "print(\"Test Statistic\",t_stat)\n",
    "print(\"P-Value\",p_val)"
   ]
  },
  {
   "cell_type": "code",
   "execution_count": 54,
   "metadata": {},
   "outputs": [
    {
     "name": "stdout",
     "output_type": "stream",
     "text": [
      "95% confidence interval is (-3.0029069531297283, 15.708789306070905)\n"
     ]
    }
   ],
   "source": [
    "ci = stats.t.interval(0.95, df = n-1, loc = mean_diff, scale = std_diff/np.sqrt(n))\n",
    "print('95% confidence interval is',ci)"
   ]
  },
  {
   "cell_type": "markdown",
   "metadata": {},
   "source": [
    "Since, p-value is more than 0.05, we fail to reject null hypothesis. Therefore, we don't have enough evidence to conclude that the training was effective."
   ]
  },
  {
   "cell_type": "markdown",
   "metadata": {
    "id": "DZHZrGTxjUOS"
   },
   "source": [
    "#### 2. An energy drink distributor claims that a new advertisement poster, featuring a life-size picture of a well-known athlete, will increase the product sales in outlets by an average of 50 bottles in a week. For a random sample of 10 outlets, the following data was collected. Test that the null hypothesis that there the advertisement was effective in increasing sales. Test the hypothesis using critical region technique. Use α = 0.05.\n",
    "\n",
    "Given data:\n",
    "\n",
    "        sales_before = [33, 32, 38, 45, 37, 47, 48, 41, 45]\n",
    "        sales_after = [42, 35, 31, 41, 37, 36, 49, 49, 48]"
   ]
  },
  {
   "cell_type": "code",
   "execution_count": 55,
   "metadata": {
    "id": "PKbYDiBOjUOT",
    "outputId": "cbe1ab76-94a1-4a76-e608-7aef27fdcac7"
   },
   "outputs": [],
   "source": [
    "sales_before = [33, 32, 38, 45, 37, 47, 48, 41, 45]\n",
    "sales_after = [42, 35, 31, 41, 37, 36, 49, 49, 48]"
   ]
  },
  {
   "cell_type": "code",
   "execution_count": 56,
   "metadata": {
    "id": "EsjAmoifjUOd",
    "outputId": "c2f7900f-afeb-4d26-d543-47fef6f64dd7"
   },
   "outputs": [
    {
     "name": "stdout",
     "output_type": "stream",
     "text": [
      "Degrees of freedom 8\n"
     ]
    }
   ],
   "source": [
    "n = len(sales_before)\n",
    "diff_sale = np.array(sales_after)-np.array(sales_before)\n",
    "\n",
    "mean_diff = np.mean(diff_sale)\n",
    "std_diff = statistics.stdev(diff_sale, xbar = mean_diff)\n",
    "\n",
    "dof = n-1\n",
    "print(\"Degrees of freedom\",dof)"
   ]
  },
  {
   "cell_type": "code",
   "execution_count": 57,
   "metadata": {},
   "outputs": [
    {
     "name": "stdout",
     "output_type": "stream",
     "text": [
      "Sales Before\n",
      "Test Statistic 0.9187210202217102\n",
      "P-Value 0.3817565143108368\n",
      "\n",
      "Sales After\n",
      "Test Statistic 0.9118874669075012\n",
      "P-Value 0.3293103277683258\n"
     ]
    }
   ],
   "source": [
    "# Shapiro test of data normality\n",
    "# Ho: Data is normal\n",
    "# Ha: Data is not normal\n",
    "\n",
    "stat,p_val = shapiro(sales_before)\n",
    "print(\"Sales Before\")\n",
    "print(\"Test Statistic\",stat)\n",
    "print(\"P-Value\",p_val)\n",
    "print()\n",
    "stat,p_val = shapiro(sales_after)\n",
    "print(\"Sales After\")\n",
    "print(\"Test Statistic\",stat)\n",
    "print(\"P-Value\",p_val)"
   ]
  },
  {
   "cell_type": "markdown",
   "metadata": {},
   "source": [
    "As p-value is more than 0.05 we fail to reject null hypothesis and conclude that Data is normally distributed."
   ]
  },
  {
   "cell_type": "code",
   "execution_count": 58,
   "metadata": {},
   "outputs": [],
   "source": [
    "# Ho:  mu difference <= 0 (The advertisement was not effective)\n",
    "# Ha: mu difference > 0 (The advertisement was effective)"
   ]
  },
  {
   "cell_type": "code",
   "execution_count": 59,
   "metadata": {},
   "outputs": [
    {
     "name": "stdout",
     "output_type": "stream",
     "text": [
      "Critical value for t-statistic 1.86\n"
     ]
    }
   ],
   "source": [
    "t_val = round(stats.t.isf(q = 0.05, df = dof),2)\n",
    "print(\"Critical value for t-statistic\",t_val)"
   ]
  },
  {
   "cell_type": "code",
   "execution_count": 60,
   "metadata": {},
   "outputs": [
    {
     "name": "stdout",
     "output_type": "stream",
     "text": [
      "Test Statistic 0.10085458113185983\n",
      "P-Value 0.9221477146925299\n"
     ]
    }
   ],
   "source": [
    "t_stat,p_val = stats.ttest_rel(sales_after,sales_before)\n",
    "print(\"Test Statistic\",t_stat)\n",
    "print(\"P-Value\",p_val)"
   ]
  },
  {
   "cell_type": "markdown",
   "metadata": {},
   "source": [
    "As p-value is more than 0.05 we fail to reject null hypothesis and therefore conclude that the advertisement wasn't effective in boosting the sales."
   ]
  },
  {
   "cell_type": "markdown",
   "metadata": {
    "id": "Qnofe5hBjUOf"
   },
   "source": [
    "### Z Proportion Test"
   ]
  },
  {
   "cell_type": "markdown",
   "metadata": {
    "id": "z95224vGjUOf"
   },
   "source": [
    "#### One Sample Test"
   ]
  },
  {
   "cell_type": "markdown",
   "metadata": {
    "id": "BAsQHKx6jUOg"
   },
   "source": [
    "#### 1. In previous years, people believed that at most 80% of male students score more than 50 marks out of 100 in Mathematics. Perform a test to check whether this percentage is more than 80. Consider the level of significance as 0.05.\n",
    "\n",
    "Consider the sample of math scores of male students available in the CSV file `StudentsPerformance.csv`."
   ]
  },
  {
   "cell_type": "code",
   "execution_count": 61,
   "metadata": {
    "id": "3V8VlG2rjUOg",
    "outputId": "42875b64-4bc4-425c-c1d3-922799c71e15",
    "scrolled": false
   },
   "outputs": [],
   "source": [
    " df_student = pd.read_csv('StudentsPerformance.csv')"
   ]
  },
  {
   "cell_type": "code",
   "execution_count": 62,
   "metadata": {
    "id": "K6y774zhjUOi"
   },
   "outputs": [],
   "source": [
    "total_male = df_student[df_student['gender']=='male'].shape[0]\n",
    "male_marks_gt_50 = df_student[(df_student['gender']=='male') & (df_student['math score']>50)].shape[0]\n",
    "prop_samp  = male_marks_gt_50/total_male"
   ]
  },
  {
   "cell_type": "code",
   "execution_count": 63,
   "metadata": {
    "id": "1vgty3VHjUOk",
    "outputId": "7e37333b-eb38-451e-d878-df8e0df13fe7"
   },
   "outputs": [],
   "source": [
    "# Ho: Proportion <= 80\n",
    "# Ha: Proportion > 80"
   ]
  },
  {
   "cell_type": "code",
   "execution_count": 64,
   "metadata": {
    "id": "rcQpC7YYjUOm",
    "outputId": "9aaa003e-7689-4c66-9b2e-04b2291d333a"
   },
   "outputs": [
    {
     "name": "stdout",
     "output_type": "stream",
     "text": [
      "Critical Value for one-tailed Z Proportion test is 1.64\n"
     ]
    }
   ],
   "source": [
    "z_val = np.abs(round(stats.norm.isf(q = 0.05),2))\n",
    "print(\"Critical Value for one-tailed Z Proportion test is\",z_val)"
   ]
  },
  {
   "cell_type": "code",
   "execution_count": 65,
   "metadata": {
    "id": "uUNOalqzjUOn",
    "outputId": "c225acf3-3f5f-4925-acbe-892993f18aed"
   },
   "outputs": [],
   "source": [
    "hypo_prop = 0.8"
   ]
  },
  {
   "cell_type": "code",
   "execution_count": 66,
   "metadata": {
    "id": "AwCeRI2hjUOp",
    "outputId": "e79ef7ff-566d-465f-b4fc-07382e21566a",
    "scrolled": true
   },
   "outputs": [
    {
     "name": "stdout",
     "output_type": "stream",
     "text": [
      "Test Statistic 4.163394160018601\n"
     ]
    }
   ],
   "source": [
    "z_prop = (prop_samp - hypo_prop)/np.sqrt( (hypo_prop*(1-hypo_prop)) / total_male)\n",
    "print(\"Test Statistic\", z_prop)"
   ]
  },
  {
   "cell_type": "code",
   "execution_count": 67,
   "metadata": {
    "id": "ZQcOl2TVjUOr",
    "outputId": "f29c1a03-0fc1-4bc0-b0ad-d14d4016aac2",
    "scrolled": false
   },
   "outputs": [
    {
     "name": "stdout",
     "output_type": "stream",
     "text": [
      "P-Value is 1.5677570141208797e-05\n"
     ]
    }
   ],
   "source": [
    "p_val  = stats.norm.sf(z_prop)\n",
    "print(\"P-Value is\",p_val)"
   ]
  },
  {
   "cell_type": "code",
   "execution_count": 68,
   "metadata": {},
   "outputs": [
    {
     "name": "stdout",
     "output_type": "stream",
     "text": [
      "Confidence Interval is (0.8401038178124423, 0.9114489772186136)\n"
     ]
    }
   ],
   "source": [
    "ci = stats.norm.interval(0.95, loc = prop_samp, scale = np.sqrt( (hypo_prop*(1-hypo_prop)) / total_male))\n",
    "print(\"Confidence Interval is\",ci)"
   ]
  },
  {
   "cell_type": "markdown",
   "metadata": {},
   "source": [
    "As p-value is less than 0.05, we reject null hypothesis and test statistic 4.16 is more than 1.64 indication alternate hypothesis being more probable. Thereby, we conclude that more than 80% of the male students score more than 50 out of 100. "
   ]
  },
  {
   "cell_type": "markdown",
   "metadata": {
    "id": "CjjxOuZ6jUOt"
   },
   "source": [
    "#### 2. From a sample of 361 business owners had gone into bankruptcy due to recession. On taking a survey, it was found that 105 of them had not consulted any professional for managing their finance before opening the business. Test the null hypothesis that at most 25% of all businesses had not consulted before opening the business. Test the claim using p-value technique. Use α = 0.05."
   ]
  },
  {
   "cell_type": "code",
   "execution_count": 69,
   "metadata": {
    "id": "-RMWTcS7jUOu",
    "outputId": "1a8d7282-3500-48fe-9681-2945db9847ab"
   },
   "outputs": [],
   "source": [
    "# Ho: P <= 0.25\n",
    "# Ha: P > 0.25"
   ]
  },
  {
   "cell_type": "code",
   "execution_count": 70,
   "metadata": {
    "id": "zfNDaLq3jUOv",
    "outputId": "1839939a-46b1-417c-9f73-fb9155b95f0f"
   },
   "outputs": [
    {
     "name": "stdout",
     "output_type": "stream",
     "text": [
      "Z-Proportion 1.7928245201151534\n"
     ]
    }
   ],
   "source": [
    "n = 361\n",
    "x = 105 # No. of business owners who did not consult before\n",
    "p_samp = x/n\n",
    "hypo_p = 0.25\n",
    "z_prop = (p_samp-hypo_p)/np.sqrt((hypo_p*(1-hypo_p))/n)\n",
    "print(\"Z-Proportion\",z_prop)"
   ]
  },
  {
   "cell_type": "code",
   "execution_count": 71,
   "metadata": {},
   "outputs": [
    {
     "name": "stdout",
     "output_type": "stream",
     "text": [
      "P-Value 0.03650049373124949\n"
     ]
    }
   ],
   "source": [
    "p_val = stats.norm.sf(z_prop)\n",
    "print(\"P-Value\",p_val)"
   ]
  },
  {
   "cell_type": "markdown",
   "metadata": {},
   "source": [
    "As p-value is less than 0.05, we reject null hypothesis. Therfore, we conclude that atleast 25% of all businesses had not consulted before opening business."
   ]
  },
  {
   "cell_type": "markdown",
   "metadata": {
    "id": "da2MCj6mjUOx"
   },
   "source": [
    "#### Two Sample Test"
   ]
  },
  {
   "cell_type": "markdown",
   "metadata": {
    "id": "_Nnef7g_jUO0"
   },
   "source": [
    "#### 1. A team of nutritionists believes that each institute provides 'standard' lunch to an equal proportion of students. A sample of students from institutes <i>Nature Learning</i> and <i>Speak Global Learning</i> is given. Consider the null hypothesis as equality of proportion with 0.1 level of significance.\n",
    "\n",
    "Consider the sample data available in the CSV file `StudentsPerformance.csv`."
   ]
  },
  {
   "cell_type": "code",
   "execution_count": 72,
   "metadata": {
    "id": "9D6_FJWsjUO0",
    "outputId": "2ff2cc81-91db-4cee-c5cf-28587e38f078",
    "scrolled": false
   },
   "outputs": [
    {
     "data": {
      "text/html": [
       "<div>\n",
       "<style scoped>\n",
       "    .dataframe tbody tr th:only-of-type {\n",
       "        vertical-align: middle;\n",
       "    }\n",
       "\n",
       "    .dataframe tbody tr th {\n",
       "        vertical-align: top;\n",
       "    }\n",
       "\n",
       "    .dataframe thead th {\n",
       "        text-align: right;\n",
       "    }\n",
       "</style>\n",
       "<table border=\"1\" class=\"dataframe\">\n",
       "  <thead>\n",
       "    <tr style=\"text-align: right;\">\n",
       "      <th></th>\n",
       "      <th>gender</th>\n",
       "      <th>race/ethnicity</th>\n",
       "      <th>lunch</th>\n",
       "      <th>test preparation course</th>\n",
       "      <th>math score</th>\n",
       "      <th>reading score</th>\n",
       "      <th>writing score</th>\n",
       "      <th>total score</th>\n",
       "      <th>training institute</th>\n",
       "    </tr>\n",
       "  </thead>\n",
       "  <tbody>\n",
       "    <tr>\n",
       "      <th>0</th>\n",
       "      <td>female</td>\n",
       "      <td>group B</td>\n",
       "      <td>standard</td>\n",
       "      <td>none</td>\n",
       "      <td>89</td>\n",
       "      <td>55</td>\n",
       "      <td>56</td>\n",
       "      <td>200</td>\n",
       "      <td>Nature Learning</td>\n",
       "    </tr>\n",
       "    <tr>\n",
       "      <th>1</th>\n",
       "      <td>female</td>\n",
       "      <td>group C</td>\n",
       "      <td>standard</td>\n",
       "      <td>completed</td>\n",
       "      <td>55</td>\n",
       "      <td>63</td>\n",
       "      <td>72</td>\n",
       "      <td>190</td>\n",
       "      <td>Nature Learning</td>\n",
       "    </tr>\n",
       "    <tr>\n",
       "      <th>2</th>\n",
       "      <td>female</td>\n",
       "      <td>group B</td>\n",
       "      <td>standard</td>\n",
       "      <td>none</td>\n",
       "      <td>64</td>\n",
       "      <td>71</td>\n",
       "      <td>56</td>\n",
       "      <td>191</td>\n",
       "      <td>Nature Learning</td>\n",
       "    </tr>\n",
       "    <tr>\n",
       "      <th>3</th>\n",
       "      <td>male</td>\n",
       "      <td>group A</td>\n",
       "      <td>free/reduced</td>\n",
       "      <td>none</td>\n",
       "      <td>60</td>\n",
       "      <td>99</td>\n",
       "      <td>72</td>\n",
       "      <td>231</td>\n",
       "      <td>Nature Learning</td>\n",
       "    </tr>\n",
       "    <tr>\n",
       "      <th>4</th>\n",
       "      <td>male</td>\n",
       "      <td>group C</td>\n",
       "      <td>standard</td>\n",
       "      <td>none</td>\n",
       "      <td>75</td>\n",
       "      <td>66</td>\n",
       "      <td>51</td>\n",
       "      <td>192</td>\n",
       "      <td>Nature Learning</td>\n",
       "    </tr>\n",
       "  </tbody>\n",
       "</table>\n",
       "</div>"
      ],
      "text/plain": [
       "   gender race/ethnicity         lunch test preparation course  math score  \\\n",
       "0  female        group B      standard                    none          89   \n",
       "1  female        group C      standard               completed          55   \n",
       "2  female        group B      standard                    none          64   \n",
       "3    male        group A  free/reduced                    none          60   \n",
       "4    male        group C      standard                    none          75   \n",
       "\n",
       "   reading score  writing score  total score training institute  \n",
       "0             55             56          200    Nature Learning  \n",
       "1             63             72          190    Nature Learning  \n",
       "2             71             56          191    Nature Learning  \n",
       "3             99             72          231    Nature Learning  \n",
       "4             66             51          192    Nature Learning  "
      ]
     },
     "execution_count": 72,
     "metadata": {},
     "output_type": "execute_result"
    }
   ],
   "source": [
    "df_student = pd.read_csv('StudentsPerformance.csv')\n",
    "df_student.head()"
   ]
  },
  {
   "cell_type": "code",
   "execution_count": 73,
   "metadata": {
    "id": "FvfqlmoqjUO2",
    "outputId": "2faf6302-3112-4d79-8982-9e1ee80e2fc7"
   },
   "outputs": [],
   "source": [
    "df_n1 = df_student[df_student['training institute'] == 'Nature Learning']\n",
    "n1 = df_n1.shape[0]\n",
    "lunch_std1 = df_n1[df_n1['lunch'] == 'standard'].shape[0]\n",
    "\n",
    "df_n2 = df_student[df_student['training institute'] == 'Speak Global Learning']\n",
    "n2 = df_n2.shape[0]\n",
    "lunch_std2 = df_n2[df_n2['lunch'] == 'standard'].shape[0]"
   ]
  },
  {
   "cell_type": "code",
   "execution_count": 74,
   "metadata": {
    "id": "Hm3_Ku6ijUO5"
   },
   "outputs": [],
   "source": [
    "# Ho: P1 - P2 = 0\n",
    "\n",
    "# Ha: P1 - P2 <> 0"
   ]
  },
  {
   "cell_type": "code",
   "execution_count": 75,
   "metadata": {
    "id": "tyY1yBJujUO8",
    "outputId": "9e0dfaf7-81bb-47b2-d1aa-e61277abbe9f"
   },
   "outputs": [
    {
     "name": "stdout",
     "output_type": "stream",
     "text": [
      "Critical value for two tailed Z Test is 1.64\n"
     ]
    }
   ],
   "source": [
    "z_val = np.abs(round(stats.norm.isf(q=0.1/2),2))\n",
    "print('Critical value for two tailed Z Test is',z_val)"
   ]
  },
  {
   "cell_type": "code",
   "execution_count": 76,
   "metadata": {
    "id": "xdkAfYsMjUO-",
    "outputId": "c133aedd-adf3-4118-877e-c3cb507f269a"
   },
   "outputs": [
    {
     "name": "stdout",
     "output_type": "stream",
     "text": [
      "Test Statistic 0.7935300106078008\n",
      "p-Value 0.4274690915859791\n"
     ]
    }
   ],
   "source": [
    "z_prop,p_val = sm.stats.proportions_ztest(count = np.array([lunch_std1,lunch_std2]),\n",
    "                                         nobs = np.array([n1,n2]))\n",
    "\n",
    "print('Test Statistic',z_prop)\n",
    "print('p-Value',p_val)"
   ]
  },
  {
   "cell_type": "code",
   "execution_count": 77,
   "metadata": {
    "id": "Qn0dHfK_jUPA",
    "outputId": "ecd12a88-98dd-4b1d-89df-f50df69ac533",
    "scrolled": true
   },
   "outputs": [
    {
     "name": "stdout",
     "output_type": "stream",
     "text": [
      "Confidence Interval for population proportion is (-0.02574794465126596, 0.07374794465126598)\n"
     ]
    }
   ],
   "source": [
    "p1 = lunch_std1/n1\n",
    "p2 = lunch_std2/n2\n",
    "\n",
    "# proportion of pooled sample\n",
    "p_bar = (n1*p1 + n2*p2)/(n1+n2)\n",
    "\n",
    "ci = stats.norm.interval(0.9, loc = p1-p2, scale = np.sqrt(p_bar*(1-p_bar)*(1/n1+1/n2)))\n",
    "print(\"Confidence Interval for population proportion is\",ci)"
   ]
  },
  {
   "cell_type": "markdown",
   "metadata": {
    "id": "dUP9JNGIjUPC",
    "outputId": "fbff257f-941e-4c27-a249-7faec5949fcb",
    "scrolled": false
   },
   "source": [
    "As p-value is more than 0.10, we fail to reject null hypothesis and therefore we can conclude that there is not enough evidence to say that the proportion of students who get standard lunch is different."
   ]
  },
  {
   "cell_type": "markdown",
   "metadata": {
    "id": "122B7SORjUPD"
   },
   "source": [
    "#### 2. Steve owns a kiosk where he sells two magazines - A and B in a month. He buys 100 copies of magazine A out of which 78 were sold and 70 copies of magazine B out of which 65 were sold. Is there enough evidence to say that magazine is B is more popular? Test the claim using p-value technique with α = 0.05."
   ]
  },
  {
   "cell_type": "code",
   "execution_count": 78,
   "metadata": {
    "id": "4cPCS0nsjUPE",
    "outputId": "7250c9c6-e7fd-4dc8-aa1e-f09380b4ce50"
   },
   "outputs": [],
   "source": [
    "# Ho: Prop A >= Prop B\n",
    "# Ha: Prop A < Prop B"
   ]
  },
  {
   "cell_type": "code",
   "execution_count": 79,
   "metadata": {},
   "outputs": [
    {
     "name": "stdout",
     "output_type": "stream",
     "text": [
      "Critical value for right tailed test is 1.64\n"
     ]
    }
   ],
   "source": [
    "z_val = np.abs(round(stats.norm.isf(q = 0.05),2))\n",
    "print('Critical value for right tailed test is',z_val)"
   ]
  },
  {
   "cell_type": "code",
   "execution_count": 80,
   "metadata": {},
   "outputs": [],
   "source": [
    "tot_A = 100 \n",
    "tot_B = 70\n",
    "A = 78\n",
    "B = 65"
   ]
  },
  {
   "cell_type": "code",
   "execution_count": 81,
   "metadata": {},
   "outputs": [],
   "source": [
    "z_prop,p_val = sm.stats.proportions_ztest(count = np.array([A,B]),nobs = np.array([tot_A,tot_B]),alternative  = 'smaller')"
   ]
  },
  {
   "cell_type": "markdown",
   "metadata": {},
   "source": [
    "As p-value is less than 0.05, we reject null hypothesis and conclude that there is enough evidence to say that magazine B is more popular."
   ]
  },
  {
   "cell_type": "markdown",
   "metadata": {
    "id": "qkhttJMXjUPG"
   },
   "source": [
    "### Non-parametric Tests"
   ]
  },
  {
   "cell_type": "markdown",
   "metadata": {
    "id": "1BiM3FVxjUPG"
   },
   "source": [
    "#### Wilcoxon Signed Rank Test"
   ]
  },
  {
   "cell_type": "markdown",
   "metadata": {
    "id": "xh8fXVp_jUPG"
   },
   "source": [
    "#### One-sample Test"
   ]
  },
  {
   "cell_type": "markdown",
   "metadata": {
    "id": "wrnUXcAzjUPH"
   },
   "source": [
    "#### 1. A company manufactures auto ancillaries. One of them is steel rods with median diameter 10cm. A sample of 10 rods randomly selected from the production process gives the following results. Test the hypothesis that the median of the population has reduced. Use α = 0.05\n",
    "\n",
    "given data:\n",
    "\n",
    "    diameter = [9.1, 10.1, 9.9, 9.9, 10, 9.8, 9.7, 9.8, 9.9, 8.6]"
   ]
  },
  {
   "cell_type": "code",
   "execution_count": 82,
   "metadata": {
    "id": "ZfC8PyMujUPH",
    "outputId": "5bda08c4-0357-45ab-a8de-b6083fda888f"
   },
   "outputs": [],
   "source": [
    "diameter = np.array([9.1, 10.1, 9.9, 9.9, 10, 9.8, 9.7, 9.8, 9.9, 8.6])"
   ]
  },
  {
   "cell_type": "code",
   "execution_count": 83,
   "metadata": {},
   "outputs": [],
   "source": [
    "# Ho: M >= 10\n",
    "# Ha: M < 10"
   ]
  },
  {
   "cell_type": "code",
   "execution_count": 84,
   "metadata": {},
   "outputs": [
    {
     "data": {
      "text/plain": [
       "array([-0.9,  0.1, -0.1, -0.1,  0. , -0.2, -0.3, -0.2, -0.1, -1.4])"
      ]
     },
     "execution_count": 84,
     "metadata": {},
     "output_type": "execute_result"
    }
   ],
   "source": [
    "M_0 = 10 # Hypothesis median\n",
    "diff  = diameter - M_0\n",
    "diff"
   ]
  },
  {
   "cell_type": "code",
   "execution_count": 85,
   "metadata": {},
   "outputs": [
    {
     "name": "stdout",
     "output_type": "stream",
     "text": [
      "Test statistic 2.5\n",
      "P-Value 0.008364861494636245\n"
     ]
    }
   ],
   "source": [
    "test_stat,p_val = stats.wilcoxon(x = diff, alternative = 'less')\n",
    "print(\"Test statistic\",test_stat)\n",
    "print(\"P-Value\",p_val)"
   ]
  },
  {
   "cell_type": "markdown",
   "metadata": {},
   "source": [
    "As p-value is less than 0.05 we reject null hypothesis and thereby conclude that the there is enough evidence that the Median of population has reduced. "
   ]
  },
  {
   "cell_type": "markdown",
   "metadata": {
    "id": "HYRNWf7VjUPJ"
   },
   "source": [
    "#### 2. The Sweet Life company that produces hand sanitizers states that the in sanitizers the median percentage of alcohol is 0.82. A sample of 6 bottles is selected to test the claim that the median percentage of alcohol is not 0.82. Use  α = 0.1\n",
    "\n",
    "Given data:\n",
    "\n",
    "        alc_per = [0.32, 0.43, 0.38, 0.35, 0.85, 0.79]"
   ]
  },
  {
   "cell_type": "code",
   "execution_count": 86,
   "metadata": {
    "id": "7WytA9myjUPJ",
    "outputId": "c38e02c9-484d-42ed-85b4-04c87275b2ad"
   },
   "outputs": [],
   "source": [
    "alc_per = np.array([0.32, 0.43, 0.38, 0.35, 0.85, 0.79])"
   ]
  },
  {
   "cell_type": "code",
   "execution_count": 87,
   "metadata": {},
   "outputs": [],
   "source": [
    "# Ho: Median = 0.82\n",
    "# Ha: Median <> 0.82"
   ]
  },
  {
   "cell_type": "code",
   "execution_count": 88,
   "metadata": {},
   "outputs": [],
   "source": [
    "Median_hypo = 0.82\n",
    "diff = alc_per-Median_hypo "
   ]
  },
  {
   "cell_type": "code",
   "execution_count": 89,
   "metadata": {},
   "outputs": [
    {
     "name": "stdout",
     "output_type": "stream",
     "text": [
      "Test Statistic 2.0\n",
      "P-Value 0.09375\n"
     ]
    }
   ],
   "source": [
    "test_stat,p_val = stats.wilcoxon(x = diff, alternative = 'two-sided')\n",
    "print(\"Test Statistic\",test_stat)\n",
    "print(\"P-Value\",p_val)"
   ]
  },
  {
   "cell_type": "markdown",
   "metadata": {},
   "source": [
    "AS p-value is less than 0.1, we reject null hypothesis and conclude that there exist enough evidence for the Median percentage of alcohol in sanitizers of SweetLife company not being 0.82."
   ]
  },
  {
   "cell_type": "markdown",
   "metadata": {
    "id": "Ey_a-kB-jUPL"
   },
   "source": [
    "#### Two-sample Paired Test"
   ]
  },
  {
   "cell_type": "markdown",
   "metadata": {
    "id": "E4ftdVoNjUPM"
   },
   "source": [
    "#### 1. The weights (in kg) of five hens before and after a special diet of millets was given. Test the hypothesis that the new millet diet has increased the weight of the hens at a 5% level of significance.\n",
    "\n",
    "        before_wt = [2.7, 1.1, 1.4, 0.9, 0.9] \n",
    "        after_wt = [1.3, 1.4, 1.1, 1.3, 1.9] "
   ]
  },
  {
   "cell_type": "code",
   "execution_count": 90,
   "metadata": {
    "id": "bEjm7qOWjUPP",
    "outputId": "d4ca7104-d18b-411e-9459-e7317504e4c2",
    "scrolled": true
   },
   "outputs": [],
   "source": [
    "before_wt = [2.7, 1.1, 1.4, 0.9, 0.9] \n",
    "after_wt = [1.3, 1.4, 1.1, 1.3, 1.9] "
   ]
  },
  {
   "cell_type": "code",
   "execution_count": 91,
   "metadata": {},
   "outputs": [],
   "source": [
    "# Ho: Mean_diet <= 0\n",
    "# Ha: Mean_diet > 0  i.e. Mean_diet_before - Mean_diet_after < 0 => Mean_diet_before < Mean_diet_after"
   ]
  },
  {
   "cell_type": "code",
   "execution_count": 92,
   "metadata": {},
   "outputs": [
    {
     "name": "stdout",
     "output_type": "stream",
     "text": [
      "Test Statistic 6.5\n",
      "P-Value 0.6875\n"
     ]
    }
   ],
   "source": [
    "test_stat,p_val = stats.wilcoxon(x = before_wt, y = after_wt, alternative = 'greater')\n",
    "print(\"Test Statistic\",test_stat)\n",
    "print('P-Value',p_val)"
   ]
  },
  {
   "cell_type": "markdown",
   "metadata": {},
   "source": [
    "As p-value is more than 0.05, we fail to reject null hypothesis and therefore we don't have enough evidence to conclude that new millet diet has increased the weight of hens."
   ]
  },
  {
   "cell_type": "markdown",
   "metadata": {
    "id": "9v2Lx60rjUPT"
   },
   "source": [
    "### Wilcoxon Rank Sum Test"
   ]
  },
  {
   "cell_type": "markdown",
   "metadata": {
    "id": "d4VtSVivjUPT"
   },
   "source": [
    "#### 1. The lengths of time in minutes spent in the operating room by 9 patients undergoing the same operating method. 4 patients are from hospital A and 5 are from hospital B. Based on given data can we conclude that for the sample operative method, patients in hospital B tend to be longer than the patients in hospital A. Use level of significance as 0.05\n",
    "Given data:\n",
    "\n",
    "    A = [32, 31, 33, 46]\n",
    "    B = [49, 20, 58, 55, 52]"
   ]
  },
  {
   "cell_type": "code",
   "execution_count": 93,
   "metadata": {
    "id": "j7CyhLpWjUPU",
    "outputId": "bb0c9a4d-1176-4bf3-8061-37adb2bd30d8"
   },
   "outputs": [],
   "source": [
    "A = [32, 31, 33, 46]\n",
    "B = [49, 20, 58, 55, 52]"
   ]
  },
  {
   "cell_type": "code",
   "execution_count": 94,
   "metadata": {
    "id": "f5Z1KFb2jUPV"
   },
   "outputs": [],
   "source": [
    "# Ho: Median A >= Median B\n",
    "# Ha: Median A < Median B"
   ]
  },
  {
   "cell_type": "code",
   "execution_count": 95,
   "metadata": {},
   "outputs": [
    {
     "name": "stdout",
     "output_type": "stream",
     "text": [
      "Critical value for one-tailed test is 1.64\n"
     ]
    }
   ],
   "source": [
    "z_val  = np.abs(round(stats.norm.isf(q = 0.05),2))\n",
    "print('Critical value for one-tailed test is',z_val)"
   ]
  },
  {
   "cell_type": "code",
   "execution_count": 96,
   "metadata": {
    "id": "3_Q2gzBMjUPX",
    "outputId": "8abe793d-b929-432b-ddaf-a326127a9fbb"
   },
   "outputs": [
    {
     "name": "stdout",
     "output_type": "stream",
     "text": [
      "Test statistic -1.4696938456699067\n",
      "P-Value 0.0708223451475684\n"
     ]
    }
   ],
   "source": [
    "test_stat,p_val = stats.ranksums(A,B)\n",
    "req_p_val = p_val/2\n",
    "print(\"Test statistic\",test_stat)\n",
    "print(\"P-Value\",req_p_val)"
   ]
  },
  {
   "cell_type": "markdown",
   "metadata": {},
   "source": [
    "Since p-value is more than 0.05, we fail to reject null hypothesis. Therefore, we don't have enough evidence to conclude that hospital B patients have longer time spent in opertaing room than hospital A during the operative process.  "
   ]
  },
  {
   "cell_type": "markdown",
   "metadata": {
    "id": "zCTEmlB8jUPZ"
   },
   "source": [
    "### Mann-Whitney U Test"
   ]
  },
  {
   "cell_type": "markdown",
   "metadata": {
    "id": "I4yrPJwkjUPa"
   },
   "source": [
    "#### 1. Two companies EyeCare and VisionFirst produces timolol eye drops. The sample of 5 bottles from both companies is selceted and the content of timolol maleate in milligram is recorded. Perform Mann-Whitney U test to test whether the amount of timolol maleate is different for both the companies. Use level of significance as 0.05.\n",
    "\n",
    "Given data:\n",
    "\n",
    "        eyecare = [6.18, 6.45, 6.21, 8.68, 8.45]\n",
    "        visionfirst = [5.8, 7.8, 6.2, 5.9, 6.2]"
   ]
  },
  {
   "cell_type": "code",
   "execution_count": 97,
   "metadata": {
    "id": "F-TbHM_LjUPa",
    "outputId": "ebaddb57-3f97-47ee-c8b1-4a8853600ef4"
   },
   "outputs": [],
   "source": [
    "eyecare = [6.18, 6.45, 6.21, 8.68, 8.45]\n",
    "visionfirst = [5.8, 7.8, 6.2, 5.9, 6.2]"
   ]
  },
  {
   "cell_type": "code",
   "execution_count": 98,
   "metadata": {
    "id": "4x9_InmjjUPc",
    "outputId": "a099dfd5-047a-44ba-c883-f8c5f74bbb73"
   },
   "outputs": [
    {
     "name": "stdout",
     "output_type": "stream",
     "text": [
      "Shapiro Test for eyecare,P-Value: 0.04114498198032379\n",
      "Shapiro Test for visionfirst,P-Value: 0.025034727528691292\n"
     ]
    }
   ],
   "source": [
    "# Ho: Data is normal\n",
    "# Ha: Data is not normal\n",
    "stat,p_val = shapiro(eyecare)\n",
    "print(\"Shapiro Test for eyecare,P-Value:\",p_val)\n",
    "stat,p_val = shapiro(visionfirst)\n",
    "print(\"Shapiro Test for visionfirst,P-Value:\",p_val)"
   ]
  },
  {
   "cell_type": "markdown",
   "metadata": {
    "id": "9NTFujv8jUPe",
    "outputId": "db017838-91b9-4819-9a06-91a67ab3e029"
   },
   "source": [
    "As p-value is less than 0.05 in both the cases, we reject null hypothesis and thereby conclude data is not normal."
   ]
  },
  {
   "cell_type": "code",
   "execution_count": 99,
   "metadata": {},
   "outputs": [
    {
     "name": "stdout",
     "output_type": "stream",
     "text": [
      "Test Statistic 20.0\n",
      "P-Value 0.14245669739409875\n"
     ]
    }
   ],
   "source": [
    "# Ho: F_eyecare = F_visionfirst\n",
    "# Ha: F_eyecare <> F_visionfirst\n",
    "test_stat,p_val = stats.mannwhitneyu(eyecare, visionfirst, alternative = 'two-sided')\n",
    "print(\"Test Statistic\",test_stat)\n",
    "print(\"P-Value\",p_val)"
   ]
  },
  {
   "cell_type": "markdown",
   "metadata": {},
   "source": [
    "As p-value is more than 0.05, we fail to reject null hypothesis and therefore conclude that the amount of timolol maleate is same in both the eyedrops."
   ]
  },
  {
   "cell_type": "markdown",
   "metadata": {
    "id": "5BdBvgURjUPf"
   },
   "source": [
    "#### 2. The lengths of time in minutes spent in the operating room by 9 patients undergoing the same operating method. 4 patients are from hospital A and 5 are from hospital B. Based on given data can we conclude that for the sample operative method, patients in hospital B tend to be longer than the patients in hospital A. Use level of significance as 0.05.\n",
    "Given data:\n",
    "\n",
    "    A = [32, 31, 33, 46]\n",
    "    B = [49, 20, 58, 55, 52]"
   ]
  },
  {
   "cell_type": "code",
   "execution_count": 100,
   "metadata": {
    "id": "2vwrXUlEjUPg",
    "outputId": "4028f7a8-3899-41d3-c84d-9ae356c00ff2"
   },
   "outputs": [],
   "source": [
    "A = [32, 31, 33, 46]\n",
    "B = [49, 20, 58, 55, 52]"
   ]
  },
  {
   "cell_type": "code",
   "execution_count": 101,
   "metadata": {
    "id": "rJjspWdrjUPk",
    "outputId": "5f86f5e5-fc5e-4b00-b1fb-3e970a151c24"
   },
   "outputs": [
    {
     "name": "stdout",
     "output_type": "stream",
     "text": [
      "Shapiro Test for A,P-Value: 0.02860516868531704\n",
      "Shapiro Test for B,P-Value: 0.03407316282391548\n"
     ]
    }
   ],
   "source": [
    "# Ho: Data is normal\n",
    "# Ha: Data is not normal\n",
    "stat,p_val = shapiro(A)\n",
    "print(\"Shapiro Test for A,P-Value:\",p_val)\n",
    "stat,p_val = shapiro(B)\n",
    "print(\"Shapiro Test for B,P-Value:\",p_val)"
   ]
  },
  {
   "cell_type": "markdown",
   "metadata": {
    "id": "lPeCdOOFjUPl",
    "outputId": "55c4e0cc-fd01-4904-98ce-af860b2d93b2"
   },
   "source": [
    "As p-value is less than 0.05, we reject null hypothesis and therefore data is not normally distributed for both A and B hospitals."
   ]
  },
  {
   "cell_type": "code",
   "execution_count": 102,
   "metadata": {},
   "outputs": [],
   "source": [
    "# Ho: F_A >= F_B\n",
    "# Ha: F_A < F_B"
   ]
  },
  {
   "cell_type": "code",
   "execution_count": 103,
   "metadata": {},
   "outputs": [
    {
     "name": "stdout",
     "output_type": "stream",
     "text": [
      "Test Statistic 4.0\n",
      "P-Value 0.09523809523809523\n"
     ]
    }
   ],
   "source": [
    "test_stat,p_val = stats.mannwhitneyu(A,B, alternative = 'less')\n",
    "print(\"Test Statistic\",test_stat)\n",
    "print(\"P-Value\",p_val)"
   ]
  },
  {
   "cell_type": "markdown",
   "metadata": {},
   "source": [
    "As p-value is more than 0.05, we fail to reject null hypothesis. Therefore, we don't have enough evidence to conclude the time taken for operation in hospital B is more than hospital A. "
   ]
  }
 ],
 "metadata": {
  "colab": {
   "name": "STAT - Faculty Notebook (Day 3) [v2.0 - 301020].ipynb",
   "provenance": []
  },
  "kernelspec": {
   "display_name": "Python 3 (ipykernel)",
   "language": "python",
   "name": "python3"
  },
  "language_info": {
   "codemirror_mode": {
    "name": "ipython",
    "version": 3
   },
   "file_extension": ".py",
   "mimetype": "text/x-python",
   "name": "python",
   "nbconvert_exporter": "python",
   "pygments_lexer": "ipython3",
   "version": "3.11.4"
  }
 },
 "nbformat": 4,
 "nbformat_minor": 1
}
