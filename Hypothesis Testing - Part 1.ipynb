{
 "cells": [
  {
   "cell_type": "markdown",
   "metadata": {},
   "source": [
    "**import the required libraries.**"
   ]
  },
  {
   "cell_type": "code",
   "execution_count": 1,
   "metadata": {},
   "outputs": [],
   "source": [
    "# import 'pandas' \n",
    "import pandas as pd \n",
    "\n",
    "# import 'numpy' \n",
    "import numpy as np\n",
    "\n",
    "# to suppress warnings \n",
    "from warnings import filterwarnings\n",
    "filterwarnings('ignore')\n",
    "\n",
    "# import 'random' to generate random sample\n",
    "import random\n",
    "\n",
    "# import statistics to perform statistical computation  \n",
    "import statistics\n",
    "\n",
    "# import 'stats' package from scipy library\n",
    "from scipy import stats\n",
    "\n",
    "# import a library to perform Z-test\n",
    "from statsmodels.stats import weightstats as stests\n",
    "\n",
    "# to test the normality \n",
    "from scipy.stats import shapiro\n",
    "\n",
    "# import the function to calculate the power of test\n",
    "from statsmodels.stats import power"
   ]
  },
  {
   "cell_type": "markdown",
   "metadata": {},
   "source": [
    "### 1. Point Estimation"
   ]
  },
  {
   "cell_type": "markdown",
   "metadata": {},
   "source": [
    "#### 1. Consider the data of grade points for 35 students in a data science course. Select grades of 20 students randomly from the data and find the point estimate for the population mean.\n",
    "\n",
    "     Grades: [59.1, 65.0, 75.8, 79.2, 95.0, 99.8, 89.1, 65.2, 41.9, 55.2, 94.8, 84.1, 83.2, 74.0, 75.5, 76.2, 79.1, 80.1, \n",
    "              92.1, 74.2, 59.2, 64.0, 75, 78.2, 95.6, 97.8, 89.5, 64.2, 41.8, 57.2, 85, 91.4, 81.8, 74.6, 90]"
   ]
  },
  {
   "cell_type": "code",
   "execution_count": 2,
   "metadata": {},
   "outputs": [
    {
     "name": "stdout",
     "output_type": "stream",
     "text": [
      "The point estimate for the population mean is 75.33\n"
     ]
    }
   ],
   "source": [
    "Grades = [59.1, 65.0, 75.8, 79.2, 95.0, 99.8, 89.1, 65.2, 41.9, 55.2, 94.8, 84.1, 83.2, 74.0, 75.5, 76.2, 79.1, 80.1, \n",
    "          92.1, 74.2, 59.2, 64.0, 75, 78.2, 95.6, 97.8, 89.5, 64.2, 41.8, 57.2, 85, 91.4, 81.8, 74.6, 90]\n",
    "    \n",
    "# radom seed  = 1 ensures the same sample is drawn each time the code is run    \n",
    "random.seed(1)\n",
    "\n",
    "sample_grades = random.sample(population = Grades, k = 20)\n",
    "\n",
    "sample_mean = np.mean(sample_grades)\n",
    "\n",
    "print(\"The point estimate for the population mean is\",round(sample_mean,2))"
   ]
  },
  {
   "cell_type": "markdown",
   "metadata": {},
   "source": [
    "#### 2. A financial firm has created 50 portfolios. From them, a sample of 13 portfolios was selected, out of which 8 were found to be underperforming. Can you estimate the number of underperforming portfolios?"
   ]
  },
  {
   "cell_type": "code",
   "execution_count": 3,
   "metadata": {},
   "outputs": [
    {
     "name": "stdout",
     "output_type": "stream",
     "text": [
      "The number of underperforming portfolios are 31\n"
     ]
    }
   ],
   "source": [
    "# Total count of portfolios\n",
    "N = 50\n",
    "\n",
    "# Number of sample portfolios\n",
    "n = 13\n",
    "\n",
    "# Number of underperforming portfolios out of the sample\n",
    "x = 8\n",
    "\n",
    "# Sample Proportion\n",
    "p_samp = x/n\n",
    "\n",
    "# Estimate Number of unerperforming portfolios\n",
    "est_num_port = N*p_samp\n",
    "\n",
    "print(\"The number of underperforming portfolios are\",round(est_num_port))"
   ]
  },
  {
   "cell_type": "markdown",
   "metadata": {},
   "source": [
    "### 2. Sampling Error"
   ]
  },
  {
   "cell_type": "markdown",
   "metadata": {},
   "source": [
    "#### 1. Consider the data for the number of ice-creams sold per day. An ice-cream vendor collected this data for 90 days and then a sample is drawn (without replacement) containing ice-creams sold for 25 days. \n",
    "\n",
    "data = [21, 93, 62, 76, 73, 20, 56, 95, 41, 36, 38, 13, 80, 88, 34, 18, 40, 11, \n",
    "        25, 29, 61, 23, 82, 10, 92, 69, 60, 87, 14, 91, 94, 49, 57, 83, 96, 55, \n",
    "        79, 52, 59, 39, 58, 17, 19, 98, 15, 54, 48, 46, 72, 45, 65, 28, 37, 30, \n",
    "        68, 75, 16, 33, 31, 99, 22, 51, 27, 67, 85, 47, 44, 77, 64, 97, 84, 42, \n",
    "        90, 70, 74, 89, 32, 26, 24, 12, 81, 53, 50, 35, 71, 63, 43, 86, 78, 66]\n",
    "        \n",
    "sample = [10, 22, 47, 66, 11, 57, 77, 98, 31, 63, 74, 84, 50, 96, 88, 92, 70, 54, 65, 44, 16, 72, 20, 90, 43]\n",
    "\n",
    "Comupte the sampling error for mean."
   ]
  },
  {
   "cell_type": "code",
   "execution_count": 4,
   "metadata": {},
   "outputs": [],
   "source": [
    "# Population\n",
    "data = [21, 93, 62, 76, 73, 20, 56, 95, 41, 36, 38, 13, 80, 88, 34, 18, 40, 11, 25, 29, 61, 23, 82, 10, 92, 69, 60, 87, 14, 91, 94, 49, 57, 83, 96, 55, 79, 52, 59, 39, 58, 17, 19, 98, 15, 54, 48, 46, 72, 45, 65, 28, 37, 30, 68, 75, 16, 33, 31, 99, 22, 51, 27, 67, 85, 47, 44, 77, 64, 97, 84, 42, 90, 70, 74, 89, 32, 26, 24, 12, 81, 53, 50, 35, 71, 63, 43, 86, 78, 66]\n",
    "\n",
    "# Sample\n",
    "sample = [10, 22, 47, 66, 11, 57, 77, 98, 31, 63, 74, 84, 50, 96, 88, 92, 70, 54, 65, 44, 16, 72, 20, 90, 43]"
   ]
  },
  {
   "cell_type": "code",
   "execution_count": 5,
   "metadata": {},
   "outputs": [
    {
     "name": "stdout",
     "output_type": "stream",
     "text": [
      "Sampling error for mean is 3.1\n"
     ]
    }
   ],
   "source": [
    "# Calculation of point estimate for the population mean\n",
    "samp_mean = np.mean(sample)\n",
    "\n",
    "# Calculation of population mean\n",
    "pop_mean = np.mean(data)\n",
    "pop_std = np.std(data)\n",
    "\n",
    "# calculation of sampling error for mean\n",
    "print(\"Sampling error for mean is\",round(np.abs(pop_mean-samp_mean),2))"
   ]
  },
  {
   "cell_type": "markdown",
   "metadata": {},
   "source": [
    "### 3. Interval Estimation for Mean"
   ]
  },
  {
   "cell_type": "markdown",
   "metadata": {},
   "source": [
    "#### 1. A random sample of weight (in kg.) for 35 diabetic patients is drawn from the population with a standard deviation of 8 kg. Find the 90% confidence interval for the population mean.\n",
    "\n",
    "    Weight: [59.1, 65.0, 75.8, 79.2, 95.0, 99.8, 89.1, 65.3, 41.9, 55.2, 94.8, 84.1, 83.2, 74.0, 75.5, 76.2, 79.1, 80.1, \n",
    "             92.1, 74.2, 59.2, 64.0, 75, 78.2, 95.6, 97.8, 89.5, 64.2, 41.8, 57.2, 85, 91.4, 81.8, 74.6, 90]"
   ]
  },
  {
   "cell_type": "code",
   "execution_count": 6,
   "metadata": {},
   "outputs": [],
   "source": [
    "Weight = [59.1, 65.0, 75.8, 79.2, 95.0, 99.8, 89.1, 65.3, 41.9, 55.2, 94.8, 84.1, 83.2, 74.0, 75.5, 76.2, 79.1, 80.1, \n",
    "         92.1, 74.2, 59.2, 64.0, 75, 78.2, 95.6, 97.8, 89.5, 64.2, 41.8, 57.2, 85, 91.4, 81.8, 74.6, 90]"
   ]
  },
  {
   "cell_type": "code",
   "execution_count": 7,
   "metadata": {},
   "outputs": [
    {
     "name": "stdout",
     "output_type": "stream",
     "text": [
      "The 90% confidence interval of population mean is [74.46 78.91]\n"
     ]
    }
   ],
   "source": [
    "n = len(Weight)\n",
    "\n",
    "samp_std = 8\n",
    "\n",
    "# Confidence interval to be taken is 90%\n",
    "ci = stats.norm.interval(0.90, loc = np.mean(Weight), scale = samp_std/np.sqrt(n))\n",
    "\n",
    "print(\"The 90% confidence interval of population mean is\",np.round(ci,2))"
   ]
  },
  {
   "cell_type": "markdown",
   "metadata": {},
   "source": [
    "#### 2. There are 150 apples on a tree. You randomly choose 40 apples and found that the average weight of apples is 182 grams with a standard deviation of 30 grams. Find the 95% confidence interval for the population mean."
   ]
  },
  {
   "cell_type": "code",
   "execution_count": 8,
   "metadata": {},
   "outputs": [
    {
     "name": "stdout",
     "output_type": "stream",
     "text": [
      "The 95% confidence interval of population mean is [172.7 191.3]\n"
     ]
    }
   ],
   "source": [
    "N = 150\n",
    "\n",
    "# Sample\n",
    "n = 40\n",
    "\n",
    "# sample mean\n",
    "samp_mean = 182\n",
    "\n",
    "# sample standard deviation\n",
    "samp_std = 30\n",
    "\n",
    "ci_95 = stats.norm.interval(0.95, loc = 182, scale = samp_std/np.sqrt(n))\n",
    "\n",
    "print(\"The 95% confidence interval of population mean is\",np.round(ci_95,2))"
   ]
  },
  {
   "cell_type": "markdown",
   "metadata": {},
   "source": [
    "#### 3. A movie production house needs to estimate the average monthly wage of the technical crew members. The previous data shows that the standard deviation of the wages is 190 dollars. The production team thinks that the estimation of the average wage should not exceed 54 dollars. The team has decided to take a small subset of wages for the estimation. Find a suitable number of wages to be considered to get the estimate with 90% confidence."
   ]
  },
  {
   "cell_type": "code",
   "execution_count": 9,
   "metadata": {},
   "outputs": [
    {
     "name": "stdout",
     "output_type": "stream",
     "text": [
      "The required sample size is 33\n"
     ]
    }
   ],
   "source": [
    "# population standard deviation\n",
    "sigma = 190\n",
    "\n",
    "# Required Margin of error\n",
    "ME = 54\n",
    "\n",
    "# calculate z_alpha_by_2 with alpha  = 0.1\n",
    "z_alpha_by_2 = np.abs(round(stats.norm.isf(0.1/2),4))\n",
    "\n",
    "# calculate sample size (n)\n",
    "n = (z_alpha_by_2**2)*((sigma**2)/(ME**2))\n",
    "\n",
    "print(\"The required sample size is\",round(n))"
   ]
  },
  {
   "cell_type": "markdown",
   "metadata": {},
   "source": [
    "#### 4. 100 bags of coal were tested and had an average of 35% of ash with a standard deviation of 15%. Calculate the margin of error for a 90% confidence level."
   ]
  },
  {
   "cell_type": "code",
   "execution_count": 10,
   "metadata": {},
   "outputs": [
    {
     "name": "stdout",
     "output_type": "stream",
     "text": [
      "Margin of error is 0.0247 or 2.47\n"
     ]
    }
   ],
   "source": [
    "# ME = (Z_alpha_by_2)*(sample_std/sqrt(n))\n",
    "\n",
    "n = 100\n",
    "sample_mean = 0.35\n",
    "sample_std = 0.15\n",
    "\n",
    "# Confidence interval to be taken is 90%\n",
    "\n",
    "z_alpha_by_2 = round(stats.norm.isf(0.1/2),4)\n",
    "\n",
    "ME = (z_alpha_by_2)*(sample_std/np.sqrt(n))\n",
    "\n",
    "print(\"Margin of error is\",round(ME,4),\"or\",round(ME*100,2))"
   ]
  },
  {
   "cell_type": "markdown",
   "metadata": {},
   "source": [
    "#### 5. From a sample of 250 observations, it is found that the average income of a 27 year old Londoner is £45,000 with a sample standard deviation of £4000. Obtain the 95% confidence interval to estimate the average income."
   ]
  },
  {
   "cell_type": "code",
   "execution_count": 11,
   "metadata": {},
   "outputs": [
    {
     "name": "stdout",
     "output_type": "stream",
     "text": [
      "95% confidence interval for average income is [44504.164 45495.836]\n"
     ]
    }
   ],
   "source": [
    "n = 250\n",
    "sample_mean = 45000\n",
    "sample_std = 4000\n",
    "\n",
    "# Confidence interval to be taken is 95%\n",
    "ci_95_avg_inc = stats.norm.interval(0.95, loc = sample_mean, scale = sample_std/np.sqrt(n))\n",
    "\n",
    "print(\"95% confidence interval for average income is\",np.round(ci_95_avg_inc,4))"
   ]
  },
  {
   "cell_type": "markdown",
   "metadata": {},
   "source": [
    "#### 6. There are 150 apples on a tree. You randomly choose 17 apples and found that the average weight of apples is 78 grams with a standard deviation of 23 grams. Find the 90% confidence interval for the population mean."
   ]
  },
  {
   "cell_type": "code",
   "execution_count": 12,
   "metadata": {},
   "outputs": [
    {
     "name": "stdout",
     "output_type": "stream",
     "text": [
      "90% confidence interval for the population is [68.26 87.74]\n"
     ]
    }
   ],
   "source": [
    "N = 150\n",
    "\n",
    "n = 17\n",
    "\n",
    "sample_mean = 78\n",
    "sample_std = 23\n",
    "\n",
    "ci_90pct = stats.t.interval(0.90, df = n-1, loc = sample_mean, scale = sample_std/np.sqrt(n))\n",
    "\n",
    "print(\"90% confidence interval for the population is\",np.round(ci_90pct,2))"
   ]
  },
  {
   "cell_type": "markdown",
   "metadata": {},
   "source": [
    "#### 7. A financial firm has created 50 portfolios. From them, a sample of 13 portfolios was selected, out of which 8 were found to be underperforming. Construct a 99% confidence interval to estimate the population proportion."
   ]
  },
  {
   "cell_type": "code",
   "execution_count": 13,
   "metadata": {},
   "outputs": [
    {
     "name": "stdout",
     "output_type": "stream",
     "text": [
      "99% confidence interval for population proportion is [0.27 0.96]\n"
     ]
    }
   ],
   "source": [
    "# Total number of portfolios\n",
    "N = 50\n",
    "\n",
    "# Sample number of portfolios\n",
    "n = 13\n",
    "\n",
    "# number of underperforming portfolios\n",
    "x = 8\n",
    "\n",
    "# sample proportion\n",
    "p_samp = x/n\n",
    "\n",
    "ci = stats.norm.interval(0.99, loc = p_samp, scale = np.sqrt((p_samp*(1-p_samp))/n))\n",
    "\n",
    "print(\"99% confidence interval for population proportion is\",np.round(ci,2))"
   ]
  },
  {
   "cell_type": "markdown",
   "metadata": {},
   "source": [
    "### 4. Test of Hypothesis"
   ]
  },
  {
   "cell_type": "markdown",
   "metadata": {},
   "source": [
    "#### 1. A car manufacturing company claims that the mileage of their new car is 25 kmph with a standard deviation of 2.5 kmph. A random sample of 45 cars was drawn and recorded their mileage as per the standard procedure. From the sample, the mean mileage was seen to be 24 kmph. Is this evidence to claim that the mean mileage is different from 25kmph? (assume the normality of the data) Use α = 0.01."
   ]
  },
  {
   "cell_type": "markdown",
   "metadata": {},
   "source": [
    "The null and alternative hypothesis is:\n",
    "\n",
    "H<sub>0</sub>: $\\mu = 25 $<br>\n",
    "H<sub>1</sub>: $\\mu ≠ 25 $\n",
    "\n",
    "Here ⍺ = 0.01, for a two-tailed test calculate the critical z-value."
   ]
  },
  {
   "cell_type": "code",
   "execution_count": 14,
   "metadata": {},
   "outputs": [
    {
     "name": "stdout",
     "output_type": "stream",
     "text": [
      "Critical value for two tailed z-test is 2.58\n"
     ]
    }
   ],
   "source": [
    "z_val = np.abs(round(stats.norm.isf(q = 0.01/2),2))\n",
    "print('Critical value for two tailed z-test is',z_val)"
   ]
  },
  {
   "cell_type": "markdown",
   "metadata": {},
   "source": [
    "i.e. if z is less than -2.58 or greater than 2.58 then we reject the null hypothesis."
   ]
  },
  {
   "cell_type": "code",
   "execution_count": 15,
   "metadata": {},
   "outputs": [
    {
     "name": "stdout",
     "output_type": "stream",
     "text": [
      "Z-Score is -2.6832815729997477\n"
     ]
    }
   ],
   "source": [
    "# calculate z-score\n",
    "\n",
    "def z_calc(pop_mean, pop_std, n, samp_mean):\n",
    "    z_score = (samp_mean - pop_mean)/(pop_std / np.sqrt(n))\n",
    "    return z_score\n",
    "\n",
    "n = 45\n",
    "pop_mean = 25\n",
    "pop_std = 2.5\n",
    "samp_mean = 24\n",
    "\n",
    "z_score = z_calc(pop_mean, pop_std, n, samp_mean)\n",
    "print('Z-Score is',z_score)"
   ]
  },
  {
   "cell_type": "code",
   "execution_count": 16,
   "metadata": {},
   "outputs": [
    {
     "name": "stdout",
     "output_type": "stream",
     "text": [
      "p-value is 0.007290358091535638\n"
     ]
    }
   ],
   "source": [
    "# calculation of p-value\n",
    "# We use .sf - survival function to calculate the p-value at the tails using absolute value of z-score\n",
    "p_val = stats.norm.sf(abs(z_score)) # two-tailed test\n",
    "\n",
    "# Since it is a two-tailed test we multiply p-value by 2\n",
    "req_p_value = p_val*2\n",
    "\n",
    "print(\"p-value is\",req_p_value)"
   ]
  },
  {
   "cell_type": "markdown",
   "metadata": {},
   "source": [
    "Hence,  p-value is less than 0.01 we reject Null Hypothesis. Hence, we conclude that there is enough evidence to claim that the mean mileage is different from 25kmph."
   ]
  },
  {
   "cell_type": "markdown",
   "metadata": {},
   "source": [
    "#### 2. The average calories in a slice bread of the brand 'Alphas' are 82 with a standard deviation of 15. An experiment is conducted to test the claim of the dietitians that the calories in a slice of bread are not as per the manufacturer's specification. A sample of 40 slices of bread is taken and the mean calories recorded are 95. Test the claim of dietitians with ⍺ value (significance level) as 0.05. (assume the normality of the data)."
   ]
  },
  {
   "cell_type": "markdown",
   "metadata": {},
   "source": [
    "The null and alternative hypothesis is:\n",
    "\n",
    "H<sub>0</sub>: $\\mu = 82 $<br>\n",
    "H<sub>1</sub>: $\\mu ≠ 82 $\n",
    "\n",
    "Here ⍺ = 0.05, for a two-tailed test calculate the critical z-value."
   ]
  },
  {
   "cell_type": "code",
   "execution_count": 17,
   "metadata": {},
   "outputs": [],
   "source": [
    "pop_mean = 82\n",
    "pop_std = 15\n",
    "\n",
    "n = 40\n",
    "samp_mean = 95"
   ]
  },
  {
   "cell_type": "code",
   "execution_count": 18,
   "metadata": {},
   "outputs": [
    {
     "name": "stdout",
     "output_type": "stream",
     "text": [
      "Critical value for two-tailed test is 1.96\n"
     ]
    }
   ],
   "source": [
    "z_val = np.abs(round(stats.norm.isf(q = 0.05/2),2))\n",
    "print(\"Critical value for two-tailed test is\",z_val)"
   ]
  },
  {
   "cell_type": "markdown",
   "metadata": {},
   "source": [
    "if z is less than -1.96 or greater than 1.96 then we reject the null hypothesis."
   ]
  },
  {
   "cell_type": "code",
   "execution_count": 19,
   "metadata": {},
   "outputs": [
    {
     "name": "stdout",
     "output_type": "stream",
     "text": [
      "Z-Score 5.4812812776251905\n"
     ]
    }
   ],
   "source": [
    "z_score = z_calc(pop_mean, pop_std, n, samp_mean)\n",
    "print(\"Z-Score\",z_score)"
   ]
  },
  {
   "cell_type": "code",
   "execution_count": 20,
   "metadata": {
    "scrolled": false
   },
   "outputs": [
    {
     "name": "stdout",
     "output_type": "stream",
     "text": [
      "p-value is 4.222565249683579e-08\n"
     ]
    }
   ],
   "source": [
    "# calculation of p-value\n",
    "# We use .sf - survival function to calculate the p-value at the tails using absolute value of z-score\n",
    "p_val = stats.norm.sf(abs(z_score)) # two-tailed test\n",
    "\n",
    "# Since it is a two-tailed test we multiply p-value by 2\n",
    "req_p_value = p_val*2\n",
    "\n",
    "print(\"p-value is\",req_p_value)"
   ]
  },
  {
   "cell_type": "markdown",
   "metadata": {},
   "source": [
    "As p-value is less than 0.05 we reject null hypothesis. Thereby, we conclude that there is enough evidence to average calories in a slice of bread are not 82."
   ]
  },
  {
   "cell_type": "markdown",
   "metadata": {},
   "source": [
    "#### 3. A typhoid vaccine in the market inscribes 3 mg of ascorbic acid in the vaccine. A research team claims that the vaccines contain less than 3 mg of acid. We collected the data of 40 vaccines by using random sampling from a population and recorded the amount of ascorbic acid. Test the claim of the research team using the sample data ⍺ value (significance level) to 0.05.\n",
    "\n",
    "    acid_amt = [2.57, 3.06, 3.28 , 3.24, 2.79, 3.40, 3.36, 3.07, 2.46, 3.03, 3.05, 2.94, 3.46, 3.19, 3.09, 2.81, 3.13, 2.88, \n",
    "                2.76, 2.75, 3.17, 2.89, 2.54, 3.18, 3.08, 2.60, 3.06, 3.13, 3.11, 3.08, 2.93, 2.90, 3.06, 2.97, 3.24, 2.86, \n",
    "                2.87, 3.18, 3, 2.95]"
   ]
  },
  {
   "cell_type": "code",
   "execution_count": 21,
   "metadata": {},
   "outputs": [],
   "source": [
    "acid_amt = [2.57, 3.06, 3.28 , 3.24, 2.79, 3.40, 3.36, 3.07, 2.46, 3.03, 3.05, 2.94, 3.46, 3.19, 3.09, 2.81, 3.13, 2.88, \n",
    "            2.76, 2.75, 3.17, 2.89, 2.54, 3.18, 3.08, 2.60, 3.06, 3.13, 3.11, 3.08, 2.93, 2.90, 3.06, 2.97, 3.24, 2.86, \n",
    "            2.87, 3.18, 3, 2.95]"
   ]
  },
  {
   "cell_type": "markdown",
   "metadata": {},
   "source": [
    "Let us check the normality of the data."
   ]
  },
  {
   "cell_type": "markdown",
   "metadata": {},
   "source": [
    "Ho: Data is normal\n",
    "\n",
    "Ha: Data is not normal"
   ]
  },
  {
   "cell_type": "code",
   "execution_count": 22,
   "metadata": {},
   "outputs": [
    {
     "name": "stdout",
     "output_type": "stream",
     "text": [
      "Test statistic 0.9764794111251831\n",
      "P-value 0.5609433054924011\n"
     ]
    }
   ],
   "source": [
    "# Performing shapiro-Wilk test to test normality\n",
    "stat, p_val = shapiro(acid_amt)\n",
    "\n",
    "# print test statistic and p-value\n",
    "print(\"Test statistic\",stat)\n",
    "print(\"P-value\",p_val)"
   ]
  },
  {
   "cell_type": "markdown",
   "metadata": {},
   "source": [
    "From the above result, we can see that the p-value is greater than 0.05, we fail to reject null hypothesis thus we can say that the data is normally distributed."
   ]
  },
  {
   "cell_type": "markdown",
   "metadata": {},
   "source": [
    "The null and alternative hypothesis is:\n",
    "\n",
    "H<sub>0</sub>: $\\mu \\geq 3 $<br>\n",
    "H<sub>1</sub>: $\\mu < 3 $\n",
    "\n",
    "Here ⍺ = 0.05, for a one-tailed test calculate the critical z-value."
   ]
  },
  {
   "cell_type": "code",
   "execution_count": 23,
   "metadata": {},
   "outputs": [
    {
     "name": "stdout",
     "output_type": "stream",
     "text": [
      "Critical value for one-tailed test 1.64\n"
     ]
    }
   ],
   "source": [
    "z_val = np.abs(stats.norm.isf(q = 0.05))\n",
    "print(\"Critical value for One-tailed test\",round(z_val,2))"
   ]
  },
  {
   "cell_type": "markdown",
   "metadata": {},
   "source": [
    "Since we test for less than value | if z is less than -1.64 then we reject the null hypothesis."
   ]
  },
  {
   "cell_type": "code",
   "execution_count": 24,
   "metadata": {},
   "outputs": [
    {
     "name": "stdout",
     "output_type": "stream",
     "text": [
      "Z-Score 0.08289008952836197\n",
      "P-Value 0.5330305328333862\n"
     ]
    }
   ],
   "source": [
    "z_score, p_val = stests.ztest(x1 = acid_amt, value = 3, alternative = 'smaller')\n",
    "print(\"Z-Score\",z_score)\n",
    "print(\"P-Value\",p_val)"
   ]
  },
  {
   "cell_type": "code",
   "execution_count": 25,
   "metadata": {
    "scrolled": false
   },
   "outputs": [
    {
     "name": "stdout",
     "output_type": "stream",
     "text": [
      "Confidence Interval [2.93 3.07]\n"
     ]
    }
   ],
   "source": [
    "ci = stats.norm.interval(0.95, loc = np.mean(acid_amt), scale = statistics.stdev(acid_amt)/np.sqrt(len(acid_amt)))\n",
    "print(\"Confidence Interval\",np.round(ci,2))"
   ]
  },
  {
   "cell_type": "markdown",
   "metadata": {},
   "source": [
    "Thus, Z-score is greater than -1.64 and p-value is greater than 0.05, we fail to reject null hypothesis. Thus, there is no enough evidence to conlcude that the vaccine contains less than 3mg of acid."
   ]
  },
  {
   "cell_type": "markdown",
   "metadata": {},
   "source": [
    "#### 4. A sample of 900 PVC pipes is found to have an average thickness of 12.5 mm. Can we assume that the sample is coming from a normal population with mean 13 mm against that it is less than 13 mm. The population standard deviation is 1 mm. Test the hypothesis at 5% level of significance."
   ]
  },
  {
   "cell_type": "markdown",
   "metadata": {},
   "source": [
    "The null and alternative hypothesis is:\n",
    "\n",
    "H<sub>0</sub>: $\\mu \\geq 13 $<br>\n",
    "H<sub>1</sub>: $\\mu < 13 $\n",
    "\n",
    "Here ⍺ = 0.05, for a one-tailed test calculate the critical z-value."
   ]
  },
  {
   "cell_type": "code",
   "execution_count": 26,
   "metadata": {},
   "outputs": [],
   "source": [
    "n = 900\n",
    "samp_mean = 12.5\n",
    "pop_mean = 13\n",
    "pop_std = 1"
   ]
  },
  {
   "cell_type": "code",
   "execution_count": 27,
   "metadata": {},
   "outputs": [
    {
     "name": "stdout",
     "output_type": "stream",
     "text": [
      "Critical value for two-tailed test is 1.64\n"
     ]
    }
   ],
   "source": [
    "z_val = np.abs(round(stats.norm.isf(q = 0.05),2))\n",
    "print(\"Critical value for One-tailed test is\",z_val)"
   ]
  },
  {
   "cell_type": "code",
   "execution_count": 28,
   "metadata": {},
   "outputs": [
    {
     "name": "stdout",
     "output_type": "stream",
     "text": [
      "Z-Score -15.0\n"
     ]
    }
   ],
   "source": [
    "z_score = z_calc(pop_mean, pop_std, n, samp_mean)\n",
    "print(\"Z-Score\",z_score)"
   ]
  },
  {
   "cell_type": "code",
   "execution_count": 29,
   "metadata": {},
   "outputs": [
    {
     "name": "stdout",
     "output_type": "stream",
     "text": [
      "p-value is 3.6709661993126986e-51\n"
     ]
    }
   ],
   "source": [
    "# calculation of p-value\n",
    "p_val = stats.norm.cdf(z_score)\n",
    "\n",
    "print(\"p-value is\",p_val)"
   ]
  },
  {
   "cell_type": "code",
   "execution_count": 30,
   "metadata": {},
   "outputs": [
    {
     "name": "stdout",
     "output_type": "stream",
     "text": [
      "Confidence interval: [12.43 12.57]\n"
     ]
    }
   ],
   "source": [
    "ci = stats.norm.interval(0.95, loc = samp_mean, scale = pop_std / np.sqrt(n))\n",
    "print('Confidence interval:', np.round(ci,2))"
   ]
  },
  {
   "cell_type": "markdown",
   "metadata": {},
   "source": [
    "Here the z-score is less than -1.64, p-value is less than 0.05, also the confidence interval do not contain the value in the null hypothesis, thus we reject the null hypothesis and that there is no enough evidence to conclude that sample is coming from the population with mean 13."
   ]
  },
  {
   "cell_type": "markdown",
   "metadata": {},
   "source": [
    "#### 5. An e-commerce company claims that the mean delivery time of food items on its website in NYC is 60 minutes with a standard deviation of 30 minutes. A random sample of 45 customers ordered from the website, and the average time for delivery was found to be 75 minutes. Is this enough evidence to claim that the average time to get items delivered is more than 60 minutes. (assume the normality of the data). Test the with α = 0.05."
   ]
  },
  {
   "cell_type": "markdown",
   "metadata": {},
   "source": [
    "The null and alternative hypothesis is:\n",
    "\n",
    "H<sub>0</sub>: $\\mu \\leq  60 $<br>\n",
    "H<sub>1</sub>: $\\mu > 60 $\n",
    "\n",
    "Here ⍺ = 0.05, for a one-tailed test calculate the critical z-value."
   ]
  },
  {
   "cell_type": "code",
   "execution_count": 31,
   "metadata": {},
   "outputs": [
    {
     "name": "stdout",
     "output_type": "stream",
     "text": [
      "Critical value for one-tailed Z-test: 1.64\n"
     ]
    }
   ],
   "source": [
    "z_val = np.abs(round(stats.norm.isf(q = 0.05), 2))\n",
    "\n",
    "print('Critical value for one-tailed Z-test:', z_val)"
   ]
  },
  {
   "cell_type": "markdown",
   "metadata": {},
   "source": [
    "if z is greater than 1.64 then we reject the null hypothesis."
   ]
  },
  {
   "cell_type": "code",
   "execution_count": 32,
   "metadata": {},
   "outputs": [],
   "source": [
    "n = 45\n",
    "pop_mean = 60\n",
    "pop_std = 30\n",
    "samp_mean = 75"
   ]
  },
  {
   "cell_type": "code",
   "execution_count": 33,
   "metadata": {},
   "outputs": [
    {
     "name": "stdout",
     "output_type": "stream",
     "text": [
      "Z-score: 3.3541019662496843\n"
     ]
    }
   ],
   "source": [
    "z_score = z_calc(pop_mean, pop_std, n, samp_mean)\n",
    "print(\"Z-score:\", z_score)"
   ]
  },
  {
   "cell_type": "code",
   "execution_count": 34,
   "metadata": {},
   "outputs": [
    {
     "name": "stdout",
     "output_type": "stream",
     "text": [
      "Confidence interval is [66.23 83.77]\n"
     ]
    }
   ],
   "source": [
    "ci =  stats.norm.interval(0.95, loc = samp_mean, scale = pop_std / np.sqrt(n))\n",
    "print('Confidence interval is',np.round(ci,2))"
   ]
  },
  {
   "cell_type": "markdown",
   "metadata": {},
   "source": [
    "In this scenario, the z-score is greater than 1.64, the p-value is less than 0.05, also the confidence interval do not contain the value in the null hypothesis, thus we reject the null hypothesis and have enough evidence to conclude that the average time to get items delivered is more than 60 minutes."
   ]
  },
  {
   "cell_type": "markdown",
   "metadata": {},
   "source": [
    "### 5. Power of Hypothesis Test"
   ]
  },
  {
   "cell_type": "markdown",
   "metadata": {},
   "source": [
    "The probability of correctly rejecting a false null hypothesis is defined as the `Power` of a test. It is calculated as `1-β`. It is the probability of avoiding the type II error. The power of the test lies between 0 to 1. The value close to 1 indicates that the test is able to reject the false null hypothesis correctly."
   ]
  },
  {
   "cell_type": "markdown",
   "metadata": {},
   "source": [
    "#### 1. We need to determine if girls' score on average is higher than 300 in the GRE (for higher studies). The standard deviation of the population is 20. We collected the data of 40 girls by using random sampling and recorded their marks. Set ⍺ value (significance level) to 0.05 to calculate the power of the test.\n",
    "\n",
    "    GRE scores = [311, 313, 309, 307, 302, 313, 305, 336, 322, 300, 335, 312, 282, 314, 310, 316, 301, 315, 299, 298, 308, \n",
    "                  315, 306, 321, 276, 306, 324, 308, 334, 277, 319, 322, 298, 300, 293, 333,305, 302, 317, 287]"
   ]
  },
  {
   "cell_type": "markdown",
   "metadata": {},
   "source": [
    "Let us check the normality of the data."
   ]
  },
  {
   "cell_type": "code",
   "execution_count": 35,
   "metadata": {},
   "outputs": [],
   "source": [
    "GRE_scores = [311, 313, 309, 307, 302, 313, 305, 336, 322, 300, 335, 312, 282, 314, 310, 316, 301, 315, 299, 298, 308, \n",
    "              315, 306, 321, 276, 306, 324, 308, 334, 277, 319, 322, 298, 300, 293, 333,305, 302, 317, 287]"
   ]
  },
  {
   "cell_type": "code",
   "execution_count": 36,
   "metadata": {},
   "outputs": [
    {
     "name": "stdout",
     "output_type": "stream",
     "text": [
      "Test statistic: 0.9695490598678589\n",
      "P-Value: 0.3482360541820526\n"
     ]
    }
   ],
   "source": [
    "stat, p_value = shapiro(GRE_scores)\n",
    "print('Test statistic:', stat)\n",
    "print('P-Value:', p_value)"
   ]
  },
  {
   "cell_type": "markdown",
   "metadata": {},
   "source": [
    "From the above result, we can see that the p-value is greater than 0.05, thus we can say that the data is normally distributed."
   ]
  },
  {
   "cell_type": "markdown",
   "metadata": {},
   "source": [
    "The null and alternative hypothesis is:\n",
    "\n",
    "H<sub>0</sub>: $\\mu \\leq 300$<br>\n",
    "H<sub>1</sub>: $\\mu > 300$"
   ]
  },
  {
   "cell_type": "code",
   "execution_count": 37,
   "metadata": {},
   "outputs": [
    {
     "name": "stdout",
     "output_type": "stream",
     "text": [
      "Critical value for one-tailed Z-test: 1.64\n"
     ]
    }
   ],
   "source": [
    "z_val = np.abs(round(stats.norm.isf(q = 0.05),2))\n",
    "\n",
    "print('Critical value for one-tailed Z-test:', z_val)"
   ]
  },
  {
   "cell_type": "code",
   "execution_count": 38,
   "metadata": {},
   "outputs": [
    {
     "name": "stdout",
     "output_type": "stream",
     "text": [
      "305.18613536267617\n"
     ]
    }
   ],
   "source": [
    "# number of observations \n",
    "num_obs = len(GRE_scores)\n",
    "\n",
    "# calculate the sample mean\n",
    "samp_mean = np.mean(GRE_scores)\n",
    "\n",
    "# null hypothesis value\n",
    "pop_mean = 300\n",
    "\n",
    "# population standard deviation\n",
    "pop_std = 20\n",
    "\n",
    "b = pop_mean + ((z_val)*(pop_std/np.sqrt(num_obs)))\n",
    "print(b)"
   ]
  },
  {
   "cell_type": "code",
   "execution_count": 39,
   "metadata": {},
   "outputs": [
    {
     "name": "stdout",
     "output_type": "stream",
     "text": [
      "Power of test is 0.8707713725498709\n"
     ]
    }
   ],
   "source": [
    "pwr = power.zt_ind_solve_power(effect_size = (samp_mean-pop_mean)/pop_std,\n",
    "                        nobs1 = num_obs,\n",
    "                        alpha = 0.05,\n",
    "                        power = None,\n",
    "                        ratio = 0,\n",
    "                        alternative = 'larger')\n",
    "\n",
    "print(\"Power of test is\",pwr)"
   ]
  },
  {
   "cell_type": "markdown",
   "metadata": {},
   "source": [
    "The power of test is 0.87. Thus, there is 87% chance that the test rejects a false null hypothesis. \n",
    "Higher value of power indicates the test is more powerful."
   ]
  }
 ],
 "metadata": {
  "kernelspec": {
   "display_name": "Python 3 (ipykernel)",
   "language": "python",
   "name": "python3"
  },
  "language_info": {
   "codemirror_mode": {
    "name": "ipython",
    "version": 3
   },
   "file_extension": ".py",
   "mimetype": "text/x-python",
   "name": "python",
   "nbconvert_exporter": "python",
   "pygments_lexer": "ipython3",
   "version": "3.11.4"
  }
 },
 "nbformat": 4,
 "nbformat_minor": 2
}
