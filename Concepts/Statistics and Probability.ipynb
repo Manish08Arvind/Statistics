{
 "cells": [
  {
   "cell_type": "markdown",
   "metadata": {},
   "source": [
    "Statistics and Probability - Basics with Examples and Exercises"
   ]
  },
  {
   "cell_type": "markdown",
   "metadata": {},
   "source": [
    "**Import the required libraries.**"
   ]
  },
  {
   "cell_type": "code",
   "execution_count": 1,
   "metadata": {},
   "outputs": [],
   "source": [
    "# import 'pandas' \n",
    "import pandas as pd \n",
    "\n",
    "# import 'numpy' \n",
    "import numpy as np\n",
    "\n",
    "# to suppress warnings \n",
    "from warnings import filterwarnings\n",
    "filterwarnings('ignore')\n",
    "\n",
    "# import 'factorial' from math library\n",
    "from math import factorial\n",
    "\n",
    "# import 'stats' package from scipy library\n",
    "from scipy import stats\n",
    "from scipy.stats import randint\n",
    "from scipy.stats import skewnorm"
   ]
  },
  {
   "cell_type": "markdown",
   "metadata": {},
   "source": [
    "The study of statistics is mainly divided into two parts: **Descriptive** and **Inferential**"
   ]
  },
  {
   "cell_type": "markdown",
   "metadata": {},
   "source": [
    "# Descriptive Statistics"
   ]
  },
  {
   "cell_type": "markdown",
   "metadata": {},
   "source": [
    "Descriptive statistics summarizes or describes the given data. It includes measures of central tendency, measures of dispersion and distribution of the data."
   ]
  },
  {
   "cell_type": "markdown",
   "metadata": {},
   "source": [
    "## Measures of Central Tendency"
   ]
  },
  {
   "cell_type": "markdown",
   "metadata": {},
   "source": [
    "A measure of central tendency is a value that distinguishes the central position of the data. It includes mean, median, mode and partition values of the data.\n",
    "\n",
    "### Mean:\n",
    "It is defined as the ratio of the sum of all the observations to the total number of observations. It is affected by the presence of outliers.\n",
    "\n",
    "### Median:\n",
    "It is the middlemost observation in the data when it is arranged in the increasing or decreasing order based on the values. It divides the dataset into two equal parts.\n",
    "\n",
    "### Mode: \n",
    "It is defined as the value in the data with the highest frequency. There can be more than one mode in the data.\n",
    "\n",
    "### Partition values:\n",
    "Partition values are defined as the values that divide the data into equal parts. `Quartiles` divide the data into 4 equal parts, `Deciles` divide the data into 10 equal parts and `Percentiles` divide the data into 100 equal parts."
   ]
  },
  {
   "cell_type": "markdown",
   "metadata": {},
   "source": [
    "#### 1. A manager handles 12 branches of a supermarket situated in the U.S.A. Consider one day sale (in dollars) of all the branches. Calculate the mean and median to find the average sale.\n",
    "    \n",
    "    Sale = [165, 182, 140, 193, 172, 168, 174, 124, 187, 204, 148, 175]"
   ]
  },
  {
   "cell_type": "code",
   "execution_count": 2,
   "metadata": {},
   "outputs": [
    {
     "name": "stdout",
     "output_type": "stream",
     "text": [
      "Mean: 169.33333333333334\n",
      "Median: 173.0\n"
     ]
    }
   ],
   "source": [
    "Sale = [165, 182, 140, 193, 172, 168, 174, 124, 187, 204, 148, 175]\n",
    "print('Mean:',np.mean(Sale))\n",
    "print('Median:',np.median(Sale))"
   ]
  },
  {
   "cell_type": "markdown",
   "metadata": {},
   "source": [
    "## Measures of Dispersion"
   ]
  },
  {
   "cell_type": "markdown",
   "metadata": {},
   "source": [
    "A measure of dispersion describes the variability in the data. Some of the measures of dispersion are range, variance, standard deviation, coefficient of variation, and IQR.\n",
    "\n",
    "### Range:\n",
    "It is defined as the difference between the largest and smallest observation in the data. It is affected by the presence of extreme observations. \n",
    "\n",
    "### Variance: \n",
    "It calculates the dispersion of the data from the mean. It is defined as the average of the sum of squares of the difference between the observation and the mean.\n",
    "\n",
    "### Standard Deviation:\n",
    "It is the positive square root of variance. The unit of standard deviation is the same as the unit of data points. The variable with near-zero standard deviation is least important for the analysis.\n",
    "\n",
    "### Coefficient of Variation\n",
    "It is a measure of the dispersion of data points around the mean. It is always expressed in percentage. We can compare the coefficient of variation of two or more groups to identify the group with more spread.\n",
    "\n",
    "### Interquartile Range (IQR):\n",
    "It is defined as the difference between the third and first quartiles. It returns the range of the middle 50% of the data. IQR can be used to identify the outliers in the data."
   ]
  },
  {
   "cell_type": "markdown",
   "metadata": {},
   "source": [
    "#### 1. A manager handles 12 branches of a supermarket situated in the U.S.A. Consider one day sale (in dollars) of all the branches. Calculate the standard deviation of the sale. Also, find the range in which the middle 50% of the sale would lie.\n",
    "    \n",
    "    Sale = [165, 182, 140, 193, 172, 168, 174, 124, 187, 204, 148, 175]"
   ]
  },
  {
   "cell_type": "code",
   "execution_count": 3,
   "metadata": {},
   "outputs": [],
   "source": [
    "Sale = [165, 182, 140, 193, 172, 168, 174, 124, 187, 204, 148, 175]"
   ]
  },
  {
   "cell_type": "code",
   "execution_count": 4,
   "metadata": {},
   "outputs": [
    {
     "name": "stdout",
     "output_type": "stream",
     "text": [
      "Range of sale is 80\n"
     ]
    }
   ],
   "source": [
    "range_sale = np.max(Sale)-np.min(Sale)\n",
    "print(\"Range of sale is\",range_sale)"
   ]
  },
  {
   "cell_type": "code",
   "execution_count": 5,
   "metadata": {},
   "outputs": [
    {
     "name": "stdout",
     "output_type": "stream",
     "text": [
      "The Standard Deviation is 21.76898915634093\n"
     ]
    }
   ],
   "source": [
    "std_sale = np.std(Sale)\n",
    "print(\"The Standard Deviation is\",std_sale)"
   ]
  },
  {
   "cell_type": "code",
   "execution_count": 6,
   "metadata": {},
   "outputs": [
    {
     "name": "stdout",
     "output_type": "stream",
     "text": [
      "The Standard Deviation is 473.8888888888889\n"
     ]
    }
   ],
   "source": [
    "var_sale = np.var(Sale)\n",
    "print(\"The Standard Deviation is\",var_sale)"
   ]
  },
  {
   "cell_type": "code",
   "execution_count": 7,
   "metadata": {},
   "outputs": [
    {
     "name": "stdout",
     "output_type": "stream",
     "text": [
      "Coefficient of Variation is 12.86\n"
     ]
    }
   ],
   "source": [
    "coeff_var = lambda x:round((np.std(x)/np.mean(x))*100,2)\n",
    "coeff_of_var = np.apply_along_axis(coeff_var,axis=0,arr=Sale)\n",
    "print(\"Coefficient of Variation is\",coeff_of_var)"
   ]
  },
  {
   "cell_type": "markdown",
   "metadata": {},
   "source": [
    "There is a 12.86% spread in the sales relative to average sales."
   ]
  },
  {
   "cell_type": "code",
   "execution_count": 8,
   "metadata": {},
   "outputs": [
    {
     "name": "stdout",
     "output_type": "stream",
     "text": [
      "Range of middle 50% (aka) IQR of sale is 22.5\n"
     ]
    }
   ],
   "source": [
    "q1 = np.quantile(Sale,q=0.25)\n",
    "q3 = np.quantile(Sale,q=0.75)\n",
    "iqr = q3-q1\n",
    "print(\"Range of middle 50% (aka) IQR of sale is\",iqr)"
   ]
  },
  {
   "cell_type": "markdown",
   "metadata": {},
   "source": [
    "## Skewness and Kurtosis"
   ]
  },
  {
   "cell_type": "markdown",
   "metadata": {},
   "source": [
    "### Skewness:\n",
    "It measures the degree to which the distribution of the data differs from the normal distribution. The value of skewness can be `positive`, `negative`, or `zero`.\n",
    "\n",
    "### Kurtosis:\n",
    "It identifies the peakedness of the data distribution. The positive value of kurtosis represents the `leptokurtic` distribution, the negative value represents the `platykurtic` distribution, and zero value represents the `mesokurtic` distribution."
   ]
  },
  {
   "cell_type": "markdown",
   "metadata": {},
   "source": [
    "#### 1. A manager handles 12 branches of a supermarket situated in the U.S.A. Consider one day sale (in dollars) of all the branches. Identify the type of Skewness and Kurtosis for sales.\n",
    "    \n",
    "    Sale = [165, 182, 140, 193, 172, 168, 174, 124, 187, 204, 148, 175]"
   ]
  },
  {
   "cell_type": "code",
   "execution_count": 9,
   "metadata": {},
   "outputs": [],
   "source": [
    "Sale = [165, 182, 140, 193, 172, 168, 174, 124, 187, 204, 148, 175]"
   ]
  },
  {
   "cell_type": "code",
   "execution_count": 10,
   "metadata": {},
   "outputs": [
    {
     "name": "stdout",
     "output_type": "stream",
     "text": [
      "Skweness of Sale is -0.5285526567587567\n"
     ]
    }
   ],
   "source": [
    "skew_sale = stats.skew(Sale)\n",
    "print('Skweness of Sale is',skew_sale)"
   ]
  },
  {
   "cell_type": "code",
   "execution_count": 11,
   "metadata": {},
   "outputs": [
    {
     "name": "stdout",
     "output_type": "stream",
     "text": [
      "Kurtosis of Sale is -0.38240010775017863\n"
     ]
    }
   ],
   "source": [
    "kurt_sale = stats.kurtosis(Sale)\n",
    "print('Kurtosis of Sale is',kurt_sale)"
   ]
  },
  {
   "cell_type": "markdown",
   "metadata": {},
   "source": [
    "The negative skewness depicts the distribution is left tailed and Mean<Median<Mode. Kurtosis is also negative indicative of platykurtic distribution i.e. the sales are more dispersed but have less outliers."
   ]
  },
  {
   "cell_type": "markdown",
   "metadata": {},
   "source": [
    "## Covariance and Correlation"
   ]
  },
  {
   "cell_type": "markdown",
   "metadata": {},
   "source": [
    "### Covariance:\n",
    "It measures the degree to which two variables move together. The value of covariance can be between $-\\infty$ to $\\infty$. The magnitude of covariance is not easy to interpret.  \n",
    "\n",
    "### Correlation:\n",
    "It is the normalized value of covariance. The correlation value near to +1 indicates a `strong positive` correlation between the variables, and value near to -1 indicates a `strong negative` correlation."
   ]
  },
  {
   "cell_type": "markdown",
   "metadata": {},
   "source": [
    "#### 1. A manager handles 12 branches of a supermarket situated in the U.S.A. Consider one day sale (in dollars) and working hours of all the branches. Find the relationship between the working hours of a store and its sales.\n",
    "    Sale = [165, 182, 140, 193, 172, 168, 174, 124, 187, 204, 148, 175]\n",
    "    Working hours = [7, 8.5, 8, 10, 9, 8, 8.5, 7.5, 9.5, 8.5, 8, 9]"
   ]
  },
  {
   "cell_type": "code",
   "execution_count": 12,
   "metadata": {},
   "outputs": [],
   "source": [
    "Sale = pd.Series([165, 182, 140, 193, 172, 168, 174, 124, 187, 204, 148, 175])\n",
    "Working_hours = pd.Series([7, 8.5, 8, 10, 9, 8, 8.5, 7.5, 9.5, 8.5, 8, 9])"
   ]
  },
  {
   "cell_type": "code",
   "execution_count": 13,
   "metadata": {},
   "outputs": [
    {
     "name": "stdout",
     "output_type": "stream",
     "text": [
      "Correlation of working hours to that of Sale is 0.6447248082202144\n"
     ]
    }
   ],
   "source": [
    "corr_coeff = Working_hours.corr(Sale)\n",
    "print(\"Correlation of working hours to that of Sale is\",corr_coeff)"
   ]
  },
  {
   "cell_type": "markdown",
   "metadata": {},
   "source": [
    "The value of the correlation coefficient shows that there is a positive correlation between the working hours and sales of a store."
   ]
  },
  {
   "cell_type": "markdown",
   "metadata": {},
   "source": [
    "<a id=\"prob\"></a>\n",
    "# 4. Probability"
   ]
  },
  {
   "cell_type": "markdown",
   "metadata": {},
   "source": [
    "An event is the outcome or collection of outcomes of an experiment. It is a subset of the `sample space`, which is defined as the set of all possible outcomes of an experiment. "
   ]
  },
  {
   "cell_type": "code",
   "execution_count": 14,
   "metadata": {},
   "outputs": [],
   "source": [
    "# consider a set of first ten prime numbers\n",
    "sample_space = {2, 3, 5, 7, 11, 13, 17, 19, 23, 29}"
   ]
  },
  {
   "cell_type": "markdown",
   "metadata": {},
   "source": [
    "`Probability` is defined as the measure of the likelihood of an event to occur. Probability of occurrence of event A is denoted as `P(A)`. The probability of an event takes values between 0 and 1. The probability of sample space is always 1. \n",
    "\n",
    "The probability of complement of an event A is `P(A') = 1-P(A)`."
   ]
  },
  {
   "cell_type": "markdown",
   "metadata": {},
   "source": [
    "#### 1. If the letters of the word `AABRAAKAADAABRAA` are arranged at random, find the probability that 10 A's come consecutively in the word."
   ]
  },
  {
   "cell_type": "code",
   "execution_count": 15,
   "metadata": {},
   "outputs": [],
   "source": [
    "word_length = len('AABRAAKAADAABRAA')\n",
    "No_of_A = 10\n",
    "No_of_B = 2\n",
    "No_of_R = 2\n",
    "No_of_K = 1\n",
    "No_of_D = 1"
   ]
  },
  {
   "cell_type": "markdown",
   "metadata": {},
   "source": [
    "If 10 A's come consecutively in the word, we consider 10 A's as one group ([AAAAAAAAAA]BRKDBR).\n",
    "\n",
    "Now the total number of letters is 6+1=7."
   ]
  },
  {
   "cell_type": "code",
   "execution_count": 16,
   "metadata": {},
   "outputs": [
    {
     "name": "stdout",
     "output_type": "stream",
     "text": [
      "The probability that 10 A's come consecutively in the word is 0.0008741258741258741\n"
     ]
    }
   ],
   "source": [
    "no_words_with_10A = factorial(7)/(factorial(No_of_B)*factorial(No_of_R)*factorial(No_of_K)*factorial(No_of_D))\n",
    "\n",
    "total_words = factorial(word_length)/(factorial(No_of_A)*factorial(No_of_B)*factorial(No_of_R)*factorial(No_of_K)*factorial(No_of_D))\n",
    "\n",
    "req_prob = no_words_with_10A/total_words\n",
    "print(\"The probability that 10 A's come consecutively in the word is\",req_prob)"
   ]
  },
  {
   "cell_type": "markdown",
   "metadata": {},
   "source": [
    "#### 2. If the letters of the word `AABRAAKAADAABRAA` are arranged at random, find the probability that 2 B's and 2 R's come together."
   ]
  },
  {
   "cell_type": "markdown",
   "metadata": {},
   "source": [
    "We consider 2 B's as 1 group and 2 R's as one group. Thus, the total letters will be 12 + 1 + 1 = 14."
   ]
  },
  {
   "cell_type": "code",
   "execution_count": 17,
   "metadata": {},
   "outputs": [],
   "source": [
    "no_of_words_with_2B_2R = (factorial(14)/(factorial(No_of_A)*factorial(No_of_K)*factorial(No_of_D))) *\\\n",
    "                         (factorial(4)/(factorial(2)*factorial(2)))\n",
    "\n",
    "total_words = factorial(word_length)/(factorial(No_of_A)*factorial(No_of_B)*factorial(No_of_R)*factorial(No_of_K)*factorial(No_of_D))\n"
   ]
  },
  {
   "cell_type": "code",
   "execution_count": 18,
   "metadata": {},
   "outputs": [
    {
     "name": "stdout",
     "output_type": "stream",
     "text": [
      "The probability that 2B's and 2R's come together in the word is 0.1\n"
     ]
    }
   ],
   "source": [
    "req_prob = no_of_words_with_2B_2R/total_words\n",
    "print(\"The probability that 2B's and 2R's come together in the word is\",req_prob)"
   ]
  },
  {
   "cell_type": "markdown",
   "metadata": {},
   "source": [
    "#### 3. A kitchen set contains 10 knives, 3 of which are defective. Two knives are drawn at random with replacement. What is the probability that none of the two knives will be defective?"
   ]
  },
  {
   "cell_type": "code",
   "execution_count": 19,
   "metadata": {},
   "outputs": [
    {
     "name": "stdout",
     "output_type": "stream",
     "text": [
      "0.4666666666666667\n"
     ]
    }
   ],
   "source": [
    "def combination(n,r):\n",
    "    comb_out = factorial(n)/(factorial(n-r)*factorial(r))\n",
    "    return comb_out\n",
    "\n",
    "probability_result = combination(7,2)/combination(10,2)\n",
    "print(probability_result)"
   ]
  },
  {
   "cell_type": "markdown",
   "metadata": {},
   "source": [
    "#### 4. The new vaccine is to be tested on patients. There are 5 diabetic patients (have the same type of diabetes), 9 patients with a similar heart condition and 11 patients with the same liver condition. One patient is randomly chosen. What is the probability that the patient is not diabetic?"
   ]
  },
  {
   "cell_type": "code",
   "execution_count": 20,
   "metadata": {},
   "outputs": [
    {
     "name": "stdout",
     "output_type": "stream",
     "text": [
      "Probability of Non-Diabetic is 0.8\n"
     ]
    }
   ],
   "source": [
    "no_of_patients = 25\n",
    "\n",
    "no_of_diabetic = 5\n",
    "\n",
    "prob_of_diabetic = 5/25\n",
    "\n",
    "prob_of_non_diabetic = 1-prob_of_diabetic\n",
    "\n",
    "print('Probability of Non-Diabetic is',prob_of_non_diabetic)"
   ]
  },
  {
   "cell_type": "markdown",
   "metadata": {},
   "source": [
    "### Odds\n",
    "\n",
    "Probability can also be expressed in terms of `odds`. Odds is the ratio of the number of observations in favor of an event to the number of observations not in favor of an event. If odds in favor of event A are a:b then $P(A) = \\frac{a}{a+b}$"
   ]
  },
  {
   "cell_type": "markdown",
   "metadata": {},
   "source": [
    "#### 1. The odds that a New Yorker picked at random will be either overweight or obese are 14:11. What is the probability that the person is fit (is not overweight or obese)?"
   ]
  },
  {
   "cell_type": "code",
   "execution_count": 21,
   "metadata": {},
   "outputs": [
    {
     "name": "stdout",
     "output_type": "stream",
     "text": [
      "Probability of being fit is 0.44\n"
     ]
    }
   ],
   "source": [
    "overweight_or_obese = 14\n",
    "fit = 11\n",
    "\n",
    "prob_fit = 11/(11+14)\n",
    "\n",
    "print('Probability of being fit is',prob_fit)"
   ]
  },
  {
   "cell_type": "markdown",
   "metadata": {},
   "source": [
    "## Conditional Probability"
   ]
  },
  {
   "cell_type": "markdown",
   "metadata": {},
   "source": [
    "#### 1. A random experiment results in an integer outcome from 21 to 30. Consider two events X and Y. \n",
    "        X: Occurrence of an even number\n",
    "        Y: Occurrence of a number divisible by 4\n",
    "        \n",
    "#### Calculate the probability that an even number will occur given that the number is divisible by 4."
   ]
  },
  {
   "cell_type": "code",
   "execution_count": 22,
   "metadata": {},
   "outputs": [
    {
     "data": {
      "text/plain": [
       "{21, 22, 23, 24, 25, 26, 27, 28, 29, 30}"
      ]
     },
     "execution_count": 22,
     "metadata": {},
     "output_type": "execute_result"
    }
   ],
   "source": [
    "sample_space = set(np.arange(21,31))\n",
    "sample_space"
   ]
  },
  {
   "cell_type": "code",
   "execution_count": 23,
   "metadata": {},
   "outputs": [
    {
     "name": "stdout",
     "output_type": "stream",
     "text": [
      "X\n"
     ]
    },
    {
     "data": {
      "text/plain": [
       "[22, 24, 26, 28, 30]"
      ]
     },
     "metadata": {},
     "output_type": "display_data"
    },
    {
     "name": "stdout",
     "output_type": "stream",
     "text": [
      "Y\n"
     ]
    },
    {
     "data": {
      "text/plain": [
       "[24, 28]"
      ]
     },
     "metadata": {},
     "output_type": "display_data"
    }
   ],
   "source": [
    "X = [i for i in sample_space if i%2==0]\n",
    "print(\"X\")\n",
    "display(X)\n",
    "Y = [i for i in sample_space if i%4==0]\n",
    "print(\"Y\")\n",
    "display(Y)"
   ]
  },
  {
   "cell_type": "code",
   "execution_count": 24,
   "metadata": {},
   "outputs": [
    {
     "name": "stdout",
     "output_type": "stream",
     "text": [
      "The probability that even number will occur given that number is divisble by 4 is 1.0\n"
     ]
    }
   ],
   "source": [
    "prob_x_inter_y = 2/10\n",
    "prob_y = 2/10\n",
    "\n",
    "req_prob = prob_x_inter_y/prob_y\n",
    "print(\"The probability that even number will occur given that number is divisble by 4 is\",req_prob)"
   ]
  },
  {
   "cell_type": "markdown",
   "metadata": {},
   "source": [
    "Since Y $\\subset$ X, P(X $\\cap$ Y) = P(Y) which implies the P(X|Y) = 1."
   ]
  },
  {
   "cell_type": "markdown",
   "metadata": {},
   "source": [
    "#### 2. A pair of fair dice is rolled. If the product of numbers that appear is 6, find the probability that the second die shows an even number?"
   ]
  },
  {
   "cell_type": "code",
   "execution_count": 25,
   "metadata": {},
   "outputs": [
    {
     "name": "stdout",
     "output_type": "stream",
     "text": [
      "The probability that the second die shows an even number given the product of numbers is 6: 0.5\n"
     ]
    }
   ],
   "source": [
    "total_possible_outcomes = 36\n",
    "\n",
    "# Let event A be the product of the events is 6\n",
    "# A = {(1,6),(6,1), (3,2), (2,3)}\n",
    "A = 4\n",
    "\n",
    "# Let event A be even number in second die\n",
    "# B = {(1,2), (1,4), (1,6), (2,2), (2,4), (2,6), (3,2), (3,4), (3,6), (4,2), (4,4), (4,6), (5,2), (5,4), (5,6), \n",
    "#     (6,2), (6,4), (6,6)}\n",
    "B = 18\n",
    "\n",
    "B_inter_A = 2\n",
    "\n",
    "prob_B_inter_A = 2/36\n",
    "prob_A = 4/36\n",
    "\n",
    "prob_B_given_A = prob_B_inter_A/prob_A\n",
    "\n",
    "print('The probability that the second die shows an even number given the product of numbers is 6:',prob_B_given_A)"
   ]
  },
  {
   "cell_type": "markdown",
   "metadata": {},
   "source": [
    "### Bayes' Theorem"
   ]
  },
  {
   "cell_type": "markdown",
   "metadata": {},
   "source": [
    "### Example:\n",
    "<img src=\"matrix.png\">"
   ]
  },
  {
   "cell_type": "markdown",
   "metadata": {
    "collapsed": true
   },
   "source": [
    "#### 1. What is the probability that a girl is chosen given that she likes pink color?"
   ]
  },
  {
   "cell_type": "code",
   "execution_count": 26,
   "metadata": {},
   "outputs": [
    {
     "name": "stdout",
     "output_type": "stream",
     "text": [
      "The probability that a girl is chosen given that she likes Pink is 0.875\n"
     ]
    }
   ],
   "source": [
    "prob_PG = 70/120\n",
    "\n",
    "prob_G = 120/190\n",
    "\n",
    "prob_P = 80/190\n",
    "\n",
    "req_prob = ((prob_PG)*(prob_G))/prob_P\n",
    "\n",
    "print('The probability that a girl is chosen given that she likes Pink is', req_prob)"
   ]
  },
  {
   "cell_type": "markdown",
   "metadata": {},
   "source": [
    "#### 2. In an armament production station, the explosion can occur due to short circuit, fault in the machinery, negligence of workers. From experience, the chances of these causes are 0.1, 0.3, 0.6 respectively. The chief engineer feels that an explosion can occur with probability:\n",
    "        1. 0.3 if there is a short circuit\n",
    "        2. 0.2 if there is a fault in the machinery\n",
    "        3. 0.25 if the workers are negligent\n",
    "#### Given that an explosion has occurred, determine the most likely cause of it?"
   ]
  },
  {
   "cell_type": "code",
   "execution_count": 27,
   "metadata": {},
   "outputs": [
    {
     "name": "stdout",
     "output_type": "stream",
     "text": [
      "Probability that explosion occurred and the cause is short circuit is 0.125\n",
      "Probability that explosion occurred and the cause is fault in machinery is 0.25\n",
      "Probability that explosion occurred and the cause is woker negligence is 0.625\n"
     ]
    }
   ],
   "source": [
    "prob_sc = 0.1\n",
    "prob_fault = 0.3\n",
    "prob_negligence = 0.6\n",
    "\n",
    "prob_exp_sc = 0.3\n",
    "prob_exp_fault = 0.2\n",
    "prob_exp_negligence = 0.25\n",
    "\n",
    "# probability of explosion\n",
    "prob_exp = (prob_sc*prob_exp_sc)+(prob_fault*prob_exp_fault)+(prob_negligence*prob_exp_negligence)\n",
    "\n",
    "# using bayes theorem to calculate probability of occurrence of explosion due to the identified causes\n",
    "prob_sc_exp = (prob_exp_sc*prob_sc)/prob_exp\n",
    "prob_fault_exp = (prob_exp_fault*prob_fault)/prob_exp\n",
    "prob_negligence_exp = (prob_exp_negligence*prob_negligence)/prob_exp\n",
    "\n",
    "print('Probability that explosion occurred and the cause is short circuit is',prob_sc_exp)\n",
    "print('Probability that explosion occurred and the cause is fault in machinery is',prob_fault_exp)\n",
    "print('Probability that explosion occurred and the cause is woker negligence is',prob_negligence_exp)"
   ]
  },
  {
   "cell_type": "markdown",
   "metadata": {},
   "source": [
    "The negligence of workers is the most likely cause of an explosion in the factory. "
   ]
  },
  {
   "cell_type": "markdown",
   "metadata": {},
   "source": [
    "#  Probability Distributions"
   ]
  },
  {
   "cell_type": "markdown",
   "metadata": {},
   "source": [
    "## Discrete Probability Distributions"
   ]
  },
  {
   "cell_type": "markdown",
   "metadata": {},
   "source": [
    "### Discrete Uniform Distribution"
   ]
  },
  {
   "cell_type": "markdown",
   "metadata": {},
   "source": [
    "#### 1. A factory has 6 machines numbered from 1 to 6. Let r.v. X be the machine number. What is the probability that a machine chosen at random is either 3 or 4?"
   ]
  },
  {
   "cell_type": "code",
   "execution_count": 28,
   "metadata": {
    "scrolled": true
   },
   "outputs": [
    {
     "name": "stdout",
     "output_type": "stream",
     "text": [
      "The probability of selecting machine 3 or 4 is 0.3333333333333333\n"
     ]
    }
   ],
   "source": [
    "req_prob = randint.pmf(k=3,low=1,high=7)+randint.pmf(k=4,low=1,high=7)\n",
    "print(\"The probability of selecting machine 3 or 4 is\",req_prob)"
   ]
  },
  {
   "cell_type": "markdown",
   "metadata": {},
   "source": [
    "### Bernoulli Distribution"
   ]
  },
  {
   "cell_type": "markdown",
   "metadata": {},
   "source": [
    "#### 1. If 7 out of 10 times a soccer player scores a goal for a direct free kick. What would be the probability that he scores a goal for the next free kick? "
   ]
  },
  {
   "cell_type": "markdown",
   "metadata": {},
   "source": [
    "Consider a discrete random variable X representing a success (= 1) or failure (= 0) in scoring a goal for the next free kick. Here X follows bernoulli distribution with `p = 0.7`."
   ]
  },
  {
   "cell_type": "code",
   "execution_count": 29,
   "metadata": {},
   "outputs": [
    {
     "name": "stdout",
     "output_type": "stream",
     "text": [
      "The probability that the player scores a goal for the next free kick is 0.7\n"
     ]
    }
   ],
   "source": [
    "# probability of scoring a goal\n",
    "p = 0.7\n",
    "\n",
    "# calculate probability that player scores a goal for a free kick\n",
    "# To find: P(X=1)\n",
    "req_prob = stats.bernoulli.pmf(k = 1,p = 0.7)\n",
    "print(\"The probability that the player scores a goal for the next free kick is\",req_prob)"
   ]
  },
  {
   "cell_type": "markdown",
   "metadata": {},
   "source": [
    "### Binomial Distribution"
   ]
  },
  {
   "cell_type": "markdown",
   "metadata": {},
   "source": [
    "#### 1. Heaven Furnitures (HF) sells furniture like sofas, beds and tables. It is observed that 25% of their customers complain about the furniture purchased by them for many reasons. On Tuesday, 20 customers purchased furniture products from HF. "
   ]
  },
  {
   "cell_type": "markdown",
   "metadata": {},
   "source": [
    "Consider a discrete random variable X representing the customer who purchased the furniture products. Here X follows binomial distribution with `n = 20, p = 0.25`. "
   ]
  },
  {
   "cell_type": "markdown",
   "metadata": {},
   "source": [
    "#### a. Calculate the probability that exactly 3 customers will complain about the purchased products."
   ]
  },
  {
   "cell_type": "code",
   "execution_count": 30,
   "metadata": {},
   "outputs": [
    {
     "name": "stdout",
     "output_type": "stream",
     "text": [
      "The probability that exactly 3 customers will complain is 0.13\n"
     ]
    }
   ],
   "source": [
    "# pass required number of customers who'll complain to 'k'\n",
    "# pass total number of customers to the parameter 'n'\n",
    "# Here, success is defined as the customer's complaint on the product i.e. p = 0.25\n",
    "\n",
    "req_prob = stats.binom.pmf(k = 3, n = 20, p = 0.25)\n",
    "print(\"The probability that exactly 3 customers will complain is\",round(req_prob,2))"
   ]
  },
  {
   "cell_type": "markdown",
   "metadata": {},
   "source": [
    "####  b. Calculate the probability that more than 3 customers will complain about the furniture purchased by them."
   ]
  },
  {
   "cell_type": "code",
   "execution_count": 31,
   "metadata": {},
   "outputs": [
    {
     "name": "stdout",
     "output_type": "stream",
     "text": [
      "The probability that more than 3 customers will complain about the furniture is 0.77\n"
     ]
    }
   ],
   "source": [
    "# Here, we use stats.binom.sf(): This is 1-cdf i.e. P(X > x)\n",
    "req_prob_grt_3 = stats.binom.sf(k = 3, n = 20, p = 0.25)\n",
    "print(\"The probability that more than 3 customers will complain about the furniture is\",round(req_prob_grt_3,2))"
   ]
  },
  {
   "cell_type": "markdown",
   "metadata": {},
   "source": [
    "#### 2. In a shooting academy, data was collected on the precision shooting of a student. From 15 shots fired 11 were on target. Consider the same student, what is the probability that out of 50 shots fired, exactly 35 will hit the target?"
   ]
  },
  {
   "cell_type": "code",
   "execution_count": 32,
   "metadata": {},
   "outputs": [
    {
     "name": "stdout",
     "output_type": "stream",
     "text": [
      "The probability that out of 50 shots fired, exactly 35 will hit the target is 0.11\n"
     ]
    }
   ],
   "source": [
    "req_prob = stats.binom.pmf(k = 35, n = 50, p = 11/15)\n",
    "print(\"The probability that out of 50 shots fired, exactly 35 will hit the target is\",round(req_prob,2))"
   ]
  },
  {
   "cell_type": "markdown",
   "metadata": {},
   "source": [
    "### Poisson Distribution"
   ]
  },
  {
   "cell_type": "markdown",
   "metadata": {},
   "source": [
    "**1. The number of pizzas sold per day by a food zone \"Fapinos\" follows a poisson distribution at a rate of 67 pizzas per day. Calculate the probability that the number of pizza sales exceeds 70 in a day.**"
   ]
  },
  {
   "cell_type": "markdown",
   "metadata": {},
   "source": [
    "Consider a discrete random variable X representing the number of pizzas sold per day. Here X follows poisson distribution with `m = 67`. "
   ]
  },
  {
   "cell_type": "code",
   "execution_count": 33,
   "metadata": {
    "scrolled": true
   },
   "outputs": [
    {
     "name": "stdout",
     "output_type": "stream",
     "text": [
      "The probability that number of pizza sold exceeds 70 in a day is 0.33\n"
     ]
    }
   ],
   "source": [
    "# Here, since we are asked probabilty of x>70, let's use stats.poisson.sf() i.e. 1-cdf\n",
    "# The mean rate i.e. lambda is 67 pizzas per day\n",
    "\n",
    "req_prob = stats.poisson.sf(k = 70, mu = 67)\n",
    "print(\"The probability that number of pizza sold exceeds 70 in a day is\",round(req_prob,2))"
   ]
  },
  {
   "cell_type": "markdown",
   "metadata": {},
   "source": [
    "#### 2. The number of calls received at a telephone exchange in a day follows poisson distribution. The probability that the exchange receives 5 calls is three times that of the exchange receiving 10 calls. Obtain the average calls that the telephone exchange receives in a day."
   ]
  },
  {
   "cell_type": "code",
   "execution_count": 34,
   "metadata": {},
   "outputs": [
    {
     "name": "stdout",
     "output_type": "stream",
     "text": [
      "The average number of call the telephone exchange receives in a day 6\n"
     ]
    }
   ],
   "source": [
    "# Given, P(X=5) = 3*P(X=10)\n",
    "# To Find: m: average call that telephone exchange receives in a day.\n",
    "# solving the above equation we obtain\n",
    "m_raised_5 = factorial(10)/(3*factorial(5))\n",
    "\n",
    "m = m_raised_5**(1/5)\n",
    "\n",
    "print(\"The average number of call the telephone exchange receives in a day\",int(m))"
   ]
  },
  {
   "cell_type": "markdown",
   "metadata": {},
   "source": [
    "### Continuous Uniform Distribution"
   ]
  },
  {
   "cell_type": "markdown",
   "metadata": {},
   "source": [
    "#### 1. A gas supplying company has a pipe of 200 km from its supplying center to the city. What is the probability that the pipe leaks in the middle 100 kms? (Assume that the chance of pipe leakage is equal on the entire route)"
   ]
  },
  {
   "cell_type": "markdown",
   "metadata": {},
   "source": [
    "Consider a continuous random variable X representing the length of a gas supplying pipe taking values in the range [0,200]. Here X follows a continuous uniform distribution."
   ]
  },
  {
   "cell_type": "code",
   "execution_count": 35,
   "metadata": {},
   "outputs": [
    {
     "name": "stdout",
     "output_type": "stream",
     "text": [
      "The probability that pipe leaks in the middle 100 kms is 0.5\n"
     ]
    }
   ],
   "source": [
    "# Distance between gas supply center and city is 200kms\n",
    "# To find: P(50 <= X <= 150)\n",
    "# X follows uniform distribution over  the interval [0,200]\n",
    "\n",
    "# let's use stats.uniform.cdf() to calculate cdf for continuous uniform distribution\n",
    "# pass required value of X to the parameter, 'x'\n",
    "# pass the start point of the interval to the parameter, 'loc'\n",
    "# pass the difference between the end point and start point(i.e. range) of the interval to the parameter, 'scale'\n",
    "prob_50 = stats.uniform.cdf(x = 50, loc = 0, scale = 200)\n",
    "prob_150 = stats.uniform.cdf(x = 150, loc = 0, scale = 200)\n",
    "\n",
    "req_prob = prob_150 - prob_50\n",
    "print(\"The probability that pipe leaks in the middle 100 kms is\",req_prob)"
   ]
  },
  {
   "cell_type": "markdown",
   "metadata": {},
   "source": [
    "### Normal Distribution"
   ]
  },
  {
   "cell_type": "markdown",
   "metadata": {},
   "source": [
    "#### 1. A survey was conducted and it was found that the people spend their 300 minutes in a day surfing on online shopping sites on average and the corresponding standard deviation is 127 minutes. Assume that the time spent on surfing follows a normal distribution. Calculate the following probabilities:\n",
    "\n",
    "Consider a continuous random variable X representing the time spent in surfing on online shopping sites. Here X follows a normal distribution with mean 300 and standard deviation as 127.\n",
    "\n",
    "\n",
    "#### a. What is the probability that the users are spending less than or equal to 100 minutes per day?"
   ]
  },
  {
   "cell_type": "code",
   "execution_count": 36,
   "metadata": {},
   "outputs": [
    {
     "name": "stdout",
     "output_type": "stream",
     "text": [
      "The probability that uers are surfing less than or equal to 100 minutes daily is 0.06\n"
     ]
    }
   ],
   "source": [
    "# on an average people spend 300 minutes surfing shopping sites in a day\n",
    "avg = 300\n",
    "\n",
    "sd = 127\n",
    "\n",
    "# standardize the variable x = 100\n",
    "z = (100-avg)/sd\n",
    "\n",
    "# cdf() returns P(X <= x) i.e. P( <= 100)\n",
    "req_prob = stats.norm.cdf(z)\n",
    "\n",
    "print(\"The probability that uers are surfing less than or equal to 100 minutes daily is\",round(req_prob,2))"
   ]
  },
  {
   "cell_type": "markdown",
   "metadata": {},
   "source": [
    "#### b. What is the probability that people are spending more than 400 minutes on online shopping sites per day?"
   ]
  },
  {
   "cell_type": "code",
   "execution_count": 37,
   "metadata": {
    "scrolled": true
   },
   "outputs": [
    {
     "name": "stdout",
     "output_type": "stream",
     "text": [
      "The probability that people are spending more than 400 minutes on online shopping sites per day is 0.22\n"
     ]
    }
   ],
   "source": [
    "# standardize the variable with x = 400\n",
    "z = (400-avg)/sd\n",
    "\n",
    "req_prob = stats.norm.sf(z)\n",
    "\n",
    "print(\"The probability that people are spending more than 400 minutes on online shopping sites per day is\",round(req_prob,2))"
   ]
  },
  {
   "cell_type": "markdown",
   "metadata": {},
   "source": [
    "#### c. What is the probability that people are spending time between 250 minutes and 350 minutes per day?"
   ]
  },
  {
   "cell_type": "code",
   "execution_count": 38,
   "metadata": {},
   "outputs": [
    {
     "name": "stdout",
     "output_type": "stream",
     "text": [
      "The probability that people are spending time between 250 and 350 minutes per day is 0.31\n"
     ]
    }
   ],
   "source": [
    "# standardize the variable x = 250\n",
    "z_250 = (250-avg)/sd\n",
    "\n",
    "# standardize the variable x = 350\n",
    "z_350 = (350-avg)/sd\n",
    "\n",
    "req_prob = stats.norm.cdf(z_350) - stats.norm.cdf(z_250)\n",
    "\n",
    "print(\"The probability that people are spending time between 250 and 350 minutes per day is\",round(req_prob,2))"
   ]
  },
  {
   "cell_type": "markdown",
   "metadata": {},
   "source": [
    "#### 2. A monthly balance in the bank account of a credit card holders is assumed to be normally distributed with mean 500 dollars and variance 100 dollars. What is the probability that the balance can be more than 513.5 dollars?"
   ]
  },
  {
   "cell_type": "code",
   "execution_count": 39,
   "metadata": {},
   "outputs": [
    {
     "name": "stdout",
     "output_type": "stream",
     "text": [
      "The probability that balance can be more than 513.5 dollars is 0.09\n"
     ]
    }
   ],
   "source": [
    "avg = 500\n",
    "var = 100\n",
    "sd = var**(1/2)\n",
    "\n",
    "# standardize the variable x = 513.5\n",
    "z = (513.5-avg)/sd\n",
    "\n",
    "\n",
    "req_prob = stats.norm.sf(z)\n",
    "\n",
    "print(\"The probability that balance can be more than 513.5 dollars is\",round(req_prob,2))"
   ]
  }
 ],
 "metadata": {
  "kernelspec": {
   "display_name": "Python 3 (ipykernel)",
   "language": "python",
   "name": "python3"
  },
  "language_info": {
   "codemirror_mode": {
    "name": "ipython",
    "version": 3
   },
   "file_extension": ".py",
   "mimetype": "text/x-python",
   "name": "python",
   "nbconvert_exporter": "python",
   "pygments_lexer": "ipython3",
   "version": "3.11.4"
  }
 },
 "nbformat": 4,
 "nbformat_minor": 2
}
